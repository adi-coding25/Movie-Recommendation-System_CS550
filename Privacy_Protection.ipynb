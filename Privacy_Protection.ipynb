{
  "nbformat": 4,
  "nbformat_minor": 0,
  "metadata": {
    "colab": {
      "provenance": []
    },
    "kernelspec": {
      "name": "python3",
      "display_name": "Python 3"
    },
    "language_info": {
      "name": "python"
    }
  },
  "cells": [
    {
      "cell_type": "markdown",
      "source": [
        "# Spring 2023-CS 550 Massive Data Mining (Final Project) <br>\n",
        "# Team-30<br>\n",
        "**4.(d) Optional Task**: \n",
        "**Trustworthiness of Recommendation Systems** <br><br>\n",
        "**Primary Topic**: Privacy Protection For Recommender Systems<br>\n",
        "**Sub Topic:** Differential Privacy In Recommender Systems     \n",
        "  "
      ],
      "metadata": {
        "id": "y4wYXrFB3EcL"
      }
    },
    {
      "cell_type": "markdown",
      "source": [
        "Experimental Dataset: Movie Lens (Small) <br>\n",
        "Description Link: https://files.grouplens.org/datasets/movielens/ml-latest-small-README.html"
      ],
      "metadata": {
        "id": "tMdtab5s6Obs"
      }
    },
    {
      "cell_type": "markdown",
      "source": [
        "Step 1: Download the MovieLens-small dataset (Google Drive Link: https://drive.google.com/drive/folders/1RgGBTN8EKtC7YwpM092ujj4IIdl92r1e?usp=share_link)"
      ],
      "metadata": {
        "id": "kIeUyuWB7Jax"
      }
    },
    {
      "cell_type": "code",
      "execution_count": 227,
      "metadata": {
        "colab": {
          "base_uri": "https://localhost:8080/"
        },
        "id": "WQuaulRb2AuN",
        "outputId": "6b085475-6805-48cd-d903-5732e4ed0d4f"
      },
      "outputs": [
        {
          "output_type": "stream",
          "name": "stdout",
          "text": [
            "Downloading...\n",
            "From: https://drive.google.com/uc?id=1yVast4gak_2Guibr4Um6LnPPQNoGwJLJ\n",
            "To: /content/ratings.csv\n",
            "\r  0% 0.00/2.48M [00:00<?, ?B/s]\r100% 2.48M/2.48M [00:00<00:00, 196MB/s]\n"
          ]
        }
      ],
      "source": [
        "#Download only the user ratings data\n",
        "!gdown '1yVast4gak_2Guibr4Um6LnPPQNoGwJLJ' -O ratings.csv"
      ]
    },
    {
      "cell_type": "markdown",
      "source": [
        "Install pre-requisite libraries"
      ],
      "metadata": {
        "id": "6ls0KFlDGRxX"
      }
    },
    {
      "cell_type": "code",
      "source": [
        "#Import Numpy and set seed for reproducibility\n",
        "import numpy as np\n",
        "np.random.seed(10)\n",
        "\n",
        "#install pandas, tqdm, matplotlib\n",
        "!pip install pandas tqdm matplotlib\n",
        "\n",
        "#import the necessary libraries\n",
        "import math\n",
        "import pandas as pd\n",
        "from tqdm import tqdm\n",
        "import matplotlib.pyplot as plt"
      ],
      "metadata": {
        "colab": {
          "base_uri": "https://localhost:8080/"
        },
        "id": "v_Jh30QhGRX6",
        "outputId": "1dcabc4f-4978-4af6-ba25-4c37cab4241c"
      },
      "execution_count": 228,
      "outputs": [
        {
          "output_type": "stream",
          "name": "stdout",
          "text": [
            "Looking in indexes: https://pypi.org/simple, https://us-python.pkg.dev/colab-wheels/public/simple/\n",
            "Requirement already satisfied: pandas in /usr/local/lib/python3.10/dist-packages (1.5.3)\n",
            "Requirement already satisfied: tqdm in /usr/local/lib/python3.10/dist-packages (4.65.0)\n",
            "Requirement already satisfied: matplotlib in /usr/local/lib/python3.10/dist-packages (3.7.1)\n",
            "Requirement already satisfied: python-dateutil>=2.8.1 in /usr/local/lib/python3.10/dist-packages (from pandas) (2.8.2)\n",
            "Requirement already satisfied: numpy>=1.21.0 in /usr/local/lib/python3.10/dist-packages (from pandas) (1.22.4)\n",
            "Requirement already satisfied: pytz>=2020.1 in /usr/local/lib/python3.10/dist-packages (from pandas) (2022.7.1)\n",
            "Requirement already satisfied: contourpy>=1.0.1 in /usr/local/lib/python3.10/dist-packages (from matplotlib) (1.0.7)\n",
            "Requirement already satisfied: packaging>=20.0 in /usr/local/lib/python3.10/dist-packages (from matplotlib) (23.1)\n",
            "Requirement already satisfied: fonttools>=4.22.0 in /usr/local/lib/python3.10/dist-packages (from matplotlib) (4.39.3)\n",
            "Requirement already satisfied: pillow>=6.2.0 in /usr/local/lib/python3.10/dist-packages (from matplotlib) (8.4.0)\n",
            "Requirement already satisfied: cycler>=0.10 in /usr/local/lib/python3.10/dist-packages (from matplotlib) (0.11.0)\n",
            "Requirement already satisfied: pyparsing>=2.3.1 in /usr/local/lib/python3.10/dist-packages (from matplotlib) (3.0.9)\n",
            "Requirement already satisfied: kiwisolver>=1.0.1 in /usr/local/lib/python3.10/dist-packages (from matplotlib) (1.4.4)\n",
            "Requirement already satisfied: six>=1.5 in /usr/local/lib/python3.10/dist-packages (from python-dateutil>=2.8.1->pandas) (1.16.0)\n"
          ]
        }
      ]
    },
    {
      "cell_type": "markdown",
      "source": [
        "Step 2. Visualize the user-ratings dataset present in 'ratings.csv'"
      ],
      "metadata": {
        "id": "wb2X8bQiFsjr"
      }
    },
    {
      "cell_type": "code",
      "source": [
        "df_ratings = pd.read_csv('ratings.csv')\n",
        "df_ratings.head()\n",
        "df_ratings.dtypes"
      ],
      "metadata": {
        "colab": {
          "base_uri": "https://localhost:8080/"
        },
        "id": "dtgAvVZbA1TR",
        "outputId": "b6214b62-4fe4-4fce-db14-3b8cdc021d1f"
      },
      "execution_count": 229,
      "outputs": [
        {
          "output_type": "execute_result",
          "data": {
            "text/plain": [
              "userId         int64\n",
              "movieId        int64\n",
              "rating       float64\n",
              "timestamp      int64\n",
              "dtype: object"
            ]
          },
          "metadata": {},
          "execution_count": 229
        }
      ]
    },
    {
      "cell_type": "markdown",
      "source": [
        "Step 3: Dataset pre-processing"
      ],
      "metadata": {
        "id": "fmt6gKr7ZY9y"
      }
    },
    {
      "cell_type": "markdown",
      "source": [
        "Define Helper Functions "
      ],
      "metadata": {
        "id": "QuTjqWtfIgFp"
      }
    },
    {
      "cell_type": "code",
      "source": [
        "def generate_user_item_maps(ratings_dataset):\n",
        "    ext_int_usermap = {val: key for key, val in enumerate(ratings_dataset.iloc[:, 0].unique())}\n",
        "    int_ext_usermap = {key: val for key, val in enumerate(ratings_dataset.iloc[:, 0].unique())}\n",
        "    ext_int_itemmap = {val: key for key, val in enumerate(ratings_dataset.iloc[:, 1].unique())}\n",
        "    int_ext_itemmap = {key: val for key, val in enumerate(ratings_dataset.iloc[:, 1].unique())}\n",
        "    return ext_int_usermap, int_ext_usermap, ext_int_itemmap, int_ext_itemmap"
      ],
      "metadata": {
        "id": "iYgo8nYpH8rl"
      },
      "execution_count": 232,
      "outputs": []
    },
    {
      "cell_type": "code",
      "source": [
        "def split_dataset_train_test(test_data_fraction, data):\n",
        "\n",
        "    per_user_ratings_length = data.groupby(['userId'], as_index=True).size()\n",
        "    user_threshold = per_user_ratings_length.apply(lambda x: math.floor(x * (1 - test_data_fraction)))\n",
        "    \n",
        "    data['r'] = data.groupby(['userId'])['timestamp'].rank(method='first', ascending=True)\n",
        "    data[\"t\"] = data.apply(\n",
        "        lambda x: x[\"r\"] > user_threshold.loc[x[\"userId\"]], axis=1)\n",
        "    \n",
        "    train_dataset = data[data[\"t\"] == False].drop(columns=[\"r\", \"t\"]).reset_index(drop=True)\n",
        "    test_dataset = data[data[\"t\"] == True].drop(columns=[\"r\", \"t\"]).reset_index(drop=True)\n",
        "\n",
        "    return train_dataset, test_dataset\n"
      ],
      "metadata": {
        "id": "RMJpnF74L5-D"
      },
      "execution_count": 233,
      "outputs": []
    },
    {
      "cell_type": "markdown",
      "source": [
        "User Ratings Test Train Split"
      ],
      "metadata": {
        "id": "DmuJzAlkZCG5"
      }
    },
    {
      "cell_type": "code",
      "source": [
        "test_data_fraction=0.2\n",
        "train_data_fraction=1-test_data_fraction"
      ],
      "metadata": {
        "id": "F9hBnQ_cO7c4"
      },
      "execution_count": 234,
      "outputs": []
    },
    {
      "cell_type": "code",
      "source": [
        "train_dataset, test_dataset = split_dataset_train_test(test_data_fraction,df_ratings)"
      ],
      "metadata": {
        "id": "zLTPwXOMOOWk"
      },
      "execution_count": 235,
      "outputs": []
    },
    {
      "cell_type": "code",
      "source": [
        "train_dataset.drop('timestamp', inplace=True, axis=1)\n",
        "test_dataset.drop('timestamp', inplace=True, axis=1)"
      ],
      "metadata": {
        "id": "m3KaXs5eO2wp"
      },
      "execution_count": 236,
      "outputs": []
    },
    {
      "cell_type": "code",
      "source": [
        "maps_dict = generate_user_item_maps(train_dataset)"
      ],
      "metadata": {
        "id": "NpFrsOKvj73M"
      },
      "execution_count": 237,
      "outputs": []
    },
    {
      "cell_type": "markdown",
      "source": [
        "Step 4: Create The Matrix factorization Model Class"
      ],
      "metadata": {
        "id": "V6GXf8FcaAEH"
      }
    },
    {
      "cell_type": "code",
      "source": [
        "class MatrixFactorization:\n",
        "    def __init__(self, dataset, maps_dict, n_factors, relevance=3.5, i_avg=None, u_avg=None):\n",
        "\n",
        "        self.ext2int_user_map, self.int2ext_user_map, self.ext2int_item_map, self.int2ext_item_map = maps_dict\n",
        "        self.dataset = self.format_dataset(dataset)\n",
        "        self.rated_items = {\n",
        "            self.ext2int_user_map[u]: dataset[(dataset.iloc[:, 0] == u) & (dataset.iloc[:, 2] >= relevance)].iloc[:,\n",
        "                                      1].map(self.ext2int_item_map).astype(int).to_list() for u in\n",
        "            self.ext2int_user_map}\n",
        "        n_users = len(self.ext2int_user_map)\n",
        "        n_items = len(self.ext2int_item_map)\n",
        "        self.n_interactions = len(dataset)\n",
        "        self.delta_ratings = dataset.iloc[:, 2].max() - dataset.iloc[:, 2].min()\n",
        "        self.p = np.random.normal(size=(n_users, n_factors), scale=1./n_factors, loc=0)\n",
        "        self.q = np.random.normal(size=(n_items, n_factors), scale=1./n_factors, loc=0)\n",
        "\n",
        "        self.b_u = np.zeros(n_users)\n",
        "        self.b_i = np.zeros(n_items)\n",
        "        self.b = np.mean(dataset['rating'])\n",
        "\n",
        "        self.i_avg = None\n",
        "        self.u_avg = None\n",
        "        if i_avg is not None and u_avg is not None:\n",
        "            self.i_avg = i_avg.to_numpy()\n",
        "            self.u_avg = u_avg.to_numpy()\n",
        "\n",
        "    def format_dataset(self, df):\n",
        "        dataset = {}\n",
        "        dataset['userId'] = df.iloc[:, 0].map(self.ext2int_user_map).to_dict()\n",
        "        dataset['itemId'] = df.iloc[:, 1].map(self.ext2int_item_map).to_dict()\n",
        "        dataset['rating'] = df.iloc[:, 2].to_dict()\n",
        "        return dataset\n",
        "\n",
        "    def train(self, lr, beta, epochs):\n",
        "\n",
        "        avg_loss_training=[]\n",
        "        epochs=30\n",
        "\n",
        "        for e in range(epochs):\n",
        "            print(f\"*** Epoch {e + 1}/{epochs} ***\")\n",
        "            \n",
        "            sum_of_loss=0\n",
        "            for i in tqdm(range(self.n_interactions)):\n",
        "\n",
        "                p_u = self.p[self.dataset['userId'][i]].astype(np.float64)\n",
        "                q_i = self.q[self.dataset['itemId'][i]].astype(np.float64)\n",
        "\n",
        "                pred = self.b + self.b_u[self.dataset['userId'][i]] + self.b_i[self.dataset['itemId'][i]] + p_u.dot(q_i)\n",
        "                err = self.dataset['rating'][i] - pred\n",
        "\n",
        "                sum_of_loss+=abs(err)\n",
        "\n",
        "                # Update biases\n",
        "                self.b_u[self.dataset['userId'][i]] += lr * (err - beta * self.b_u[self.dataset['userId'][i]])\n",
        "                self.b_i[self.dataset['itemId'][i]] += lr * (err - beta * self.b_i[self.dataset['itemId'][i]])\n",
        "\n",
        "                # Update embeddings\n",
        "                self.p[self.dataset['userId'][i]] = p_u + lr * (err * q_i - beta * p_u)\n",
        "                self.q[self.dataset['itemId'][i]] = q_i + lr * (err * p_u - beta * q_i)\n",
        "            \n",
        "            avg_loss_training.append(sum_of_loss/self.n_interactions)\n",
        "\n",
        "        plt.figure()\n",
        "        plt.plot([i for i in range(epochs)], avg_loss_training)\n",
        "\n",
        "        plt.title('Training Loss vs Epochs')\n",
        "        plt.ylabel('Training Loss')\n",
        "        plt.xlabel('Epochs')\n",
        "\n",
        "    def train_laplace_dp(self, lr, beta, epochs, eps, err_max=None):\n",
        "\n",
        "        avg_loss_training=[]\n",
        "        epochs=30\n",
        "\n",
        "        for e in range(epochs):\n",
        "            print(f\" Epoch {e + 1}/{epochs} started\")\n",
        "\n",
        "            sum_of_loss=0\n",
        "\n",
        "            for i in tqdm(range(self.n_interactions)):\n",
        "                p_u = self.p[self.dataset['userId'][i]].astype(np.float64)\n",
        "                q_i = self.q[self.dataset['itemId'][i]].astype(np.float64)\n",
        "\n",
        "                pred = self.b + self.b_u[self.dataset['userId'][i]] + self.b_i[self.dataset['itemId'][i]] + p_u.dot(q_i)\n",
        "\n",
        "                # We should add Laplacian noise scaled based on the sensitivity of the error\n",
        "                # Having two datasets A and B differing by the value of just one rating r_ui (namely r_ui(A) and r_ui(B)), we have that\n",
        "                # max |e(A) - e(B)| = max |(r_ui(A) - p_u * q_i) - (r_ui(B) - p_u * q_i)| = max |r_ui(A) - r_ui(B)| = delta_ratings\n",
        "                # For the composability theorem, we have to split the privacy budget by the number of epochs\n",
        "                err = self.dataset['rating'][i] - pred + np.random.laplace(scale=(epochs * self.delta_ratings / eps))\n",
        "\n",
        "\n",
        "                # Optionally we can constrain the error the limit the effect of the noise\n",
        "                if err_max:\n",
        "                    err = np.clip(err, -err_max, err_max)\n",
        "\n",
        "                sum_of_loss+=abs(err)\n",
        "\n",
        "                # Update biases\n",
        "                self.b_u[self.dataset['userId'][i]] += lr * (err - beta * self.b_u[self.dataset['userId'][i]])\n",
        "                self.b_i[self.dataset['itemId'][i]] += lr * (err - beta * self.b_i[self.dataset['itemId'][i]])\n",
        "\n",
        "                self.p[self.dataset['userId'][i]] = p_u + lr * (err * q_i)\n",
        "                self.q[self.dataset['itemId'][i]] = q_i + lr * (err * p_u)\n",
        "              \n",
        "            avg_loss_training.append(sum_of_loss/self.n_interactions)\n",
        "\n",
        "        plt.figure()\n",
        "        plt.plot([i for i in range(epochs)], avg_loss_training)\n",
        "\n",
        "        print('TL:',avg_loss_training)\n",
        "        print('Epochs:',[i for i in range(epochs)])\n",
        "        plt.title('Training Loss vs Epochs')\n",
        "        plt.ylabel('Training Loss')\n",
        "        plt.xlabel('Epochs')\n",
        "\n",
        "\n",
        "    def evaluate(self, test=None, cutoff=10, relevance=0.5):\n",
        "\n",
        "        if self.i_avg is not None and self.u_avg is not None:\n",
        "            prediction = self.b + self.b_u[:, np.newaxis] + self.b_i[np.newaxis, :] + \\\n",
        "                         (np.dot(self.p, self.q.T).T + self.i_avg[:, None]).T + self.u_avg[:, None]\n",
        "        else:\n",
        "            prediction = self.b + self.b_u[:, np.newaxis] + self.b_i[np.newaxis, :] + np.dot(self.p, self.q.T)\n",
        "        precisions = []\n",
        "        recalls = []\n",
        "\n",
        "        relevant_items_test = {\n",
        "            self.ext2int_user_map[u]: set(test[(test.iloc[:, 0] == u) & (test.iloc[:, 2] >= relevance)].iloc[:, 1].map(\n",
        "                self.ext2int_item_map).dropna().astype(int).to_list()) for u in self.ext2int_user_map}\n",
        "\n",
        "        for u in self.int2ext_user_map:\n",
        "            prediction[u, self.rated_items[u]] = - np.inf\n",
        "            unordered_top_k = np.argpartition(prediction[u], -cutoff)[-cutoff:]\n",
        "            top_k = unordered_top_k[np.argsort(prediction[u][unordered_top_k])][::-1]\n",
        "            n_rel_and_rec_k = sum(i in relevant_items_test[u] for i in top_k)\n",
        "            precisions.append(n_rel_and_rec_k / cutoff)\n",
        "            try:\n",
        "                recalls.append(n_rel_and_rec_k / len(relevant_items_test[u]))\n",
        "            except ZeroDivisionError:\n",
        "                recalls.append(0)\n",
        "        precision = sum(precisions) / len(precisions)\n",
        "        recall = sum(recalls) / len(recalls)\n",
        "\n",
        "        print(f\"Precision@{cutoff}: {precision}\")\n",
        "        print(f\"Recall@{cutoff}: {recall}\")\n",
        "        return  precision, recall"
      ],
      "metadata": {
        "id": "volCOL5-ZVj5"
      },
      "execution_count": 238,
      "outputs": []
    },
    {
      "cell_type": "markdown",
      "source": [
        "Define the model hyper-parameters"
      ],
      "metadata": {
        "id": "3Rmf6uxbilMi"
      }
    },
    {
      "cell_type": "code",
      "source": [
        "num_of_latent_factors = 100\n",
        "learning_rate = 0.001\n",
        "lambda_regularization = 0.1\n",
        "num_of_epochs = 20"
      ],
      "metadata": {
        "id": "ARoAdxiZhAF3"
      },
      "execution_count": 239,
      "outputs": []
    },
    {
      "cell_type": "markdown",
      "source": [
        "Initialize Matrix Factorization model"
      ],
      "metadata": {
        "id": "CKZxzoapixfc"
      }
    },
    {
      "cell_type": "code",
      "source": [
        "mf_model = MatrixFactorization(train_dataset, maps_dict, num_of_latent_factors, relevance=4)"
      ],
      "metadata": {
        "id": "6OUEV5T_ivJK"
      },
      "execution_count": 240,
      "outputs": []
    },
    {
      "cell_type": "markdown",
      "source": [
        "Train The Matrix Factorization Model With No Input or Training Noise"
      ],
      "metadata": {
        "id": "p_whXT09iqaS"
      }
    },
    {
      "cell_type": "code",
      "source": [
        "mf_model.train(learning_rate, lambda_regularization, num_of_epochs)"
      ],
      "metadata": {
        "colab": {
          "base_uri": "https://localhost:8080/",
          "height": 1000
        },
        "id": "Qp44HnUchPyI",
        "outputId": "7f306440-6ab7-4147-f146-ae87d8e86960"
      },
      "execution_count": 241,
      "outputs": [
        {
          "output_type": "stream",
          "name": "stdout",
          "text": [
            "*** Epoch 1/30 ***\n"
          ]
        },
        {
          "output_type": "stream",
          "name": "stderr",
          "text": [
            "100%|██████████| 80419/80419 [00:01<00:00, 47866.09it/s]\n"
          ]
        },
        {
          "output_type": "stream",
          "name": "stdout",
          "text": [
            "*** Epoch 2/30 ***\n"
          ]
        },
        {
          "output_type": "stream",
          "name": "stderr",
          "text": [
            "100%|██████████| 80419/80419 [00:01<00:00, 47064.50it/s]\n"
          ]
        },
        {
          "output_type": "stream",
          "name": "stdout",
          "text": [
            "*** Epoch 3/30 ***\n"
          ]
        },
        {
          "output_type": "stream",
          "name": "stderr",
          "text": [
            "100%|██████████| 80419/80419 [00:02<00:00, 33256.41it/s]\n"
          ]
        },
        {
          "output_type": "stream",
          "name": "stdout",
          "text": [
            "*** Epoch 4/30 ***\n"
          ]
        },
        {
          "output_type": "stream",
          "name": "stderr",
          "text": [
            "100%|██████████| 80419/80419 [00:02<00:00, 31690.02it/s]\n"
          ]
        },
        {
          "output_type": "stream",
          "name": "stdout",
          "text": [
            "*** Epoch 5/30 ***\n"
          ]
        },
        {
          "output_type": "stream",
          "name": "stderr",
          "text": [
            "100%|██████████| 80419/80419 [00:01<00:00, 47883.03it/s]\n"
          ]
        },
        {
          "output_type": "stream",
          "name": "stdout",
          "text": [
            "*** Epoch 6/30 ***\n"
          ]
        },
        {
          "output_type": "stream",
          "name": "stderr",
          "text": [
            "100%|██████████| 80419/80419 [00:01<00:00, 47637.87it/s]\n"
          ]
        },
        {
          "output_type": "stream",
          "name": "stdout",
          "text": [
            "*** Epoch 7/30 ***\n"
          ]
        },
        {
          "output_type": "stream",
          "name": "stderr",
          "text": [
            "100%|██████████| 80419/80419 [00:01<00:00, 47626.22it/s]\n"
          ]
        },
        {
          "output_type": "stream",
          "name": "stdout",
          "text": [
            "*** Epoch 8/30 ***\n"
          ]
        },
        {
          "output_type": "stream",
          "name": "stderr",
          "text": [
            "100%|██████████| 80419/80419 [00:01<00:00, 48015.12it/s]\n"
          ]
        },
        {
          "output_type": "stream",
          "name": "stdout",
          "text": [
            "*** Epoch 9/30 ***\n"
          ]
        },
        {
          "output_type": "stream",
          "name": "stderr",
          "text": [
            "100%|██████████| 80419/80419 [00:01<00:00, 46837.36it/s]\n"
          ]
        },
        {
          "output_type": "stream",
          "name": "stdout",
          "text": [
            "*** Epoch 10/30 ***\n"
          ]
        },
        {
          "output_type": "stream",
          "name": "stderr",
          "text": [
            "100%|██████████| 80419/80419 [00:02<00:00, 31483.52it/s]\n"
          ]
        },
        {
          "output_type": "stream",
          "name": "stdout",
          "text": [
            "*** Epoch 11/30 ***\n"
          ]
        },
        {
          "output_type": "stream",
          "name": "stderr",
          "text": [
            "100%|██████████| 80419/80419 [00:02<00:00, 34044.94it/s]\n"
          ]
        },
        {
          "output_type": "stream",
          "name": "stdout",
          "text": [
            "*** Epoch 12/30 ***\n"
          ]
        },
        {
          "output_type": "stream",
          "name": "stderr",
          "text": [
            "100%|██████████| 80419/80419 [00:01<00:00, 46824.67it/s]\n"
          ]
        },
        {
          "output_type": "stream",
          "name": "stdout",
          "text": [
            "*** Epoch 13/30 ***\n"
          ]
        },
        {
          "output_type": "stream",
          "name": "stderr",
          "text": [
            "100%|██████████| 80419/80419 [00:01<00:00, 47332.03it/s]\n"
          ]
        },
        {
          "output_type": "stream",
          "name": "stdout",
          "text": [
            "*** Epoch 14/30 ***\n"
          ]
        },
        {
          "output_type": "stream",
          "name": "stderr",
          "text": [
            "100%|██████████| 80419/80419 [00:01<00:00, 46371.34it/s]\n"
          ]
        },
        {
          "output_type": "stream",
          "name": "stdout",
          "text": [
            "*** Epoch 15/30 ***\n"
          ]
        },
        {
          "output_type": "stream",
          "name": "stderr",
          "text": [
            "100%|██████████| 80419/80419 [00:01<00:00, 48236.19it/s]\n"
          ]
        },
        {
          "output_type": "stream",
          "name": "stdout",
          "text": [
            "*** Epoch 16/30 ***\n"
          ]
        },
        {
          "output_type": "stream",
          "name": "stderr",
          "text": [
            "100%|██████████| 80419/80419 [00:01<00:00, 47038.14it/s]\n"
          ]
        },
        {
          "output_type": "stream",
          "name": "stdout",
          "text": [
            "*** Epoch 17/30 ***\n"
          ]
        },
        {
          "output_type": "stream",
          "name": "stderr",
          "text": [
            "100%|██████████| 80419/80419 [00:02<00:00, 28982.93it/s]\n"
          ]
        },
        {
          "output_type": "stream",
          "name": "stdout",
          "text": [
            "*** Epoch 18/30 ***\n"
          ]
        },
        {
          "output_type": "stream",
          "name": "stderr",
          "text": [
            "100%|██████████| 80419/80419 [00:02<00:00, 38617.18it/s]\n"
          ]
        },
        {
          "output_type": "stream",
          "name": "stdout",
          "text": [
            "*** Epoch 19/30 ***\n"
          ]
        },
        {
          "output_type": "stream",
          "name": "stderr",
          "text": [
            "100%|██████████| 80419/80419 [00:01<00:00, 47558.37it/s]\n"
          ]
        },
        {
          "output_type": "stream",
          "name": "stdout",
          "text": [
            "*** Epoch 20/30 ***\n"
          ]
        },
        {
          "output_type": "stream",
          "name": "stderr",
          "text": [
            "100%|██████████| 80419/80419 [00:01<00:00, 46538.67it/s]\n"
          ]
        },
        {
          "output_type": "stream",
          "name": "stdout",
          "text": [
            "*** Epoch 21/30 ***\n"
          ]
        },
        {
          "output_type": "stream",
          "name": "stderr",
          "text": [
            "100%|██████████| 80419/80419 [00:01<00:00, 47487.68it/s]\n"
          ]
        },
        {
          "output_type": "stream",
          "name": "stdout",
          "text": [
            "*** Epoch 22/30 ***\n"
          ]
        },
        {
          "output_type": "stream",
          "name": "stderr",
          "text": [
            "100%|██████████| 80419/80419 [00:01<00:00, 45699.24it/s]\n"
          ]
        },
        {
          "output_type": "stream",
          "name": "stdout",
          "text": [
            "*** Epoch 23/30 ***\n"
          ]
        },
        {
          "output_type": "stream",
          "name": "stderr",
          "text": [
            "100%|██████████| 80419/80419 [00:01<00:00, 46143.27it/s]\n"
          ]
        },
        {
          "output_type": "stream",
          "name": "stdout",
          "text": [
            "*** Epoch 24/30 ***\n"
          ]
        },
        {
          "output_type": "stream",
          "name": "stderr",
          "text": [
            "100%|██████████| 80419/80419 [00:03<00:00, 25075.63it/s]\n"
          ]
        },
        {
          "output_type": "stream",
          "name": "stdout",
          "text": [
            "*** Epoch 25/30 ***\n"
          ]
        },
        {
          "output_type": "stream",
          "name": "stderr",
          "text": [
            "100%|██████████| 80419/80419 [00:03<00:00, 21632.93it/s]\n"
          ]
        },
        {
          "output_type": "stream",
          "name": "stdout",
          "text": [
            "*** Epoch 26/30 ***\n"
          ]
        },
        {
          "output_type": "stream",
          "name": "stderr",
          "text": [
            "100%|██████████| 80419/80419 [00:03<00:00, 26692.00it/s]\n"
          ]
        },
        {
          "output_type": "stream",
          "name": "stdout",
          "text": [
            "*** Epoch 27/30 ***\n"
          ]
        },
        {
          "output_type": "stream",
          "name": "stderr",
          "text": [
            "100%|██████████| 80419/80419 [00:01<00:00, 46278.74it/s]\n"
          ]
        },
        {
          "output_type": "stream",
          "name": "stdout",
          "text": [
            "*** Epoch 28/30 ***\n"
          ]
        },
        {
          "output_type": "stream",
          "name": "stderr",
          "text": [
            "100%|██████████| 80419/80419 [00:01<00:00, 43967.29it/s]\n"
          ]
        },
        {
          "output_type": "stream",
          "name": "stdout",
          "text": [
            "*** Epoch 29/30 ***\n"
          ]
        },
        {
          "output_type": "stream",
          "name": "stderr",
          "text": [
            "100%|██████████| 80419/80419 [00:02<00:00, 34054.41it/s]\n"
          ]
        },
        {
          "output_type": "stream",
          "name": "stdout",
          "text": [
            "*** Epoch 30/30 ***\n"
          ]
        },
        {
          "output_type": "stream",
          "name": "stderr",
          "text": [
            "100%|██████████| 80419/80419 [00:02<00:00, 31174.28it/s]\n"
          ]
        },
        {
          "output_type": "display_data",
          "data": {
            "text/plain": [
              "<Figure size 640x480 with 1 Axes>"
            ],
            "image/png": "[encoded data removed]"
          },
          "metadata": {}
        }
      ]
    },
    {
      "cell_type": "code",
      "source": [
        "mf_model.evaluate(test_dataset)"
      ],
      "metadata": {
        "colab": {
          "base_uri": "https://localhost:8080/"
        },
        "id": "FnBPYBg5jUfH",
        "outputId": "5bbe4f18-ac43-4b4c-a925-cee165d93761"
      },
      "execution_count": 242,
      "outputs": [
        {
          "output_type": "stream",
          "name": "stdout",
          "text": [
            "Precision@10: 0.05180327868852467\n",
            "Recall@10: 0.026935795874508867\n"
          ]
        },
        {
          "output_type": "execute_result",
          "data": {
            "text/plain": [
              "(0.05180327868852467, 0.026935795874508867)"
            ]
          },
          "metadata": {},
          "execution_count": 242
        }
      ]
    },
    {
      "cell_type": "code",
      "source": [
        "def privatize_global_effects(ratings, b_m, b_u, eps_global_avg, eps_item_avg, eps_user_avg, clamping):\n",
        "    min_rating = ratings['rating'].min()\n",
        "    max_rating = ratings['rating'].max()\n",
        "    delta_r = max_rating - min_rating\n",
        "\n",
        "    # Measure the noisy version\n",
        "\n",
        "    global_average_item = (ratings['rating'].sum() + np.random.laplace(scale=(delta_r / eps_global_avg))) / len(ratings)\n",
        "\n",
        "    item_sets = ratings.groupby('movieId')['rating']\n",
        "    i_avg = (item_sets.sum() + b_m * global_average_item + np.random.laplace(scale=(delta_r / eps_item_avg),\n",
        "                                                                             size=len(item_sets))) / (\n",
        "                        item_sets.count() + b_m)\n",
        "    i_avg = np.clip(i_avg, min_rating, max_rating)\n",
        "\n",
        "    merged = ratings.join(i_avg, on=['movieId'], lsuffix='_x', rsuffix='_y')\n",
        "\n",
        "    merged['rating'] = merged['rating_x'] - merged['rating_y']\n",
        "    merged = merged.drop(columns=['rating_x', 'rating_y'], axis=1)\n",
        "\n",
        "    global_average_user = (merged['rating'].sum() + np.random.laplace(scale=(delta_r / eps_global_avg))) / len(merged)\n",
        "\n",
        "    user_sets = merged.groupby('userId')['rating']\n",
        "    u_avg = (user_sets.sum() + b_u * global_average_user + np.random.laplace(scale=(delta_r / eps_user_avg))) / (\n",
        "                user_sets.count() + b_u)\n",
        "    u_avg = np.clip(u_avg, -2, 2)\n",
        "    # Values come from the implementation of this approach by Friedman et al., 2016\n",
        "\n",
        "    preprocessed_ratings = merged.join(u_avg, on=['userId'], lsuffix='_x', rsuffix='_y')\n",
        "\n",
        "    preprocessed_ratings['rating'] = preprocessed_ratings['rating_x'] - preprocessed_ratings['rating_y']\n",
        "    preprocessed_ratings = preprocessed_ratings.drop(columns=['rating_x', 'rating_y'], axis=1)\n",
        "    preprocessed_ratings['rating'] = np.clip(preprocessed_ratings['rating'], -clamping, clamping)\n",
        "\n",
        "    return preprocessed_ratings, i_avg, u_avg"
      ],
      "metadata": {
        "id": "Mr9RVIHTkmzB"
      },
      "execution_count": 244,
      "outputs": []
    },
    {
      "cell_type": "code",
      "source": [
        "eps = 5\n",
        "eps_global_avg = 0.02 * eps\n",
        "eps_item_avg = 0.14 * eps\n",
        "eps_user_avg = 0.14 * eps\n",
        "# Overall, we used 0.3 of our eps for the preprocessing\n",
        "# The remaing 0.7 of eps is used for training"
      ],
      "metadata": {
        "id": "bLRoyqD_krkJ"
      },
      "execution_count": 245,
      "outputs": []
    },
    {
      "cell_type": "code",
      "source": [
        "b_m = 5\n",
        "b_u = 5\n",
        "clamping = 1\n",
        "preproc_train_set, i_avg, u_avg = privatize_global_effects(train_dataset, b_m, b_u, eps_global_avg, eps_item_avg,\n",
        "                                                           eps_user_avg, clamping)"
      ],
      "metadata": {
        "id": "hCjLLOYOkuCD"
      },
      "execution_count": 246,
      "outputs": []
    },
    {
      "cell_type": "code",
      "source": [
        "def input_perturbation(ratings, clamping, eps):\n",
        "    # Range of the received ratings is [-clamping, clamping]\n",
        "    # In the input perturbation approach, each rating is perturbed in a way that maintains differential privacy\n",
        "    delta_r = 2 * clamping  # global sensitivity\n",
        "\n",
        "    # differential privacy\n",
        "    perturbed_ratings = ratings.copy()\n",
        "    perturbed_ratings['rating'] = np.clip(ratings['rating'] + np.random.laplace(scale=(delta_r / eps), size=len(ratings)),\n",
        "                                -clamping, clamping)\n",
        "\n",
        "    return perturbed_ratings"
      ],
      "metadata": {
        "id": "Mm67ZYE-kx5T"
      },
      "execution_count": 247,
      "outputs": []
    },
    {
      "cell_type": "code",
      "source": [
        "train_set_perturbed = input_perturbation(train_dataset, 1, 0.7 * eps)\n",
        "mf_dp_data = MatrixFactorization(train_set_perturbed, maps_dict, num_of_latent_factors, relevance=4, i_avg=i_avg, u_avg=u_avg)\n",
        "mf_dp_data.train(learning_rate, lambda_regularization, num_of_epochs)\n",
        "mf_dp_data.evaluate(test_dataset)"
      ],
      "metadata": {
        "colab": {
          "base_uri": "https://localhost:8080/",
          "height": 1000
        },
        "id": "vbOAin8Rp3Qn",
        "outputId": "8a797518-2493-4400-942d-1259c13a5816"
      },
      "execution_count": 248,
      "outputs": [
        {
          "output_type": "stream",
          "name": "stdout",
          "text": [
            "*** Epoch 1/30 ***\n"
          ]
        },
        {
          "output_type": "stream",
          "name": "stderr",
          "text": [
            "100%|██████████| 80419/80419 [00:01<00:00, 44661.28it/s]\n"
          ]
        },
        {
          "output_type": "stream",
          "name": "stdout",
          "text": [
            "*** Epoch 2/30 ***\n"
          ]
        },
        {
          "output_type": "stream",
          "name": "stderr",
          "text": [
            "100%|██████████| 80419/80419 [00:01<00:00, 47298.47it/s]\n"
          ]
        },
        {
          "output_type": "stream",
          "name": "stdout",
          "text": [
            "*** Epoch 3/30 ***\n"
          ]
        },
        {
          "output_type": "stream",
          "name": "stderr",
          "text": [
            "100%|██████████| 80419/80419 [00:02<00:00, 35170.71it/s]\n"
          ]
        },
        {
          "output_type": "stream",
          "name": "stdout",
          "text": [
            "*** Epoch 4/30 ***\n"
          ]
        },
        {
          "output_type": "stream",
          "name": "stderr",
          "text": [
            "100%|██████████| 80419/80419 [00:02<00:00, 31693.21it/s]\n"
          ]
        },
        {
          "output_type": "stream",
          "name": "stdout",
          "text": [
            "*** Epoch 5/30 ***\n"
          ]
        },
        {
          "output_type": "stream",
          "name": "stderr",
          "text": [
            "100%|██████████| 80419/80419 [00:01<00:00, 47048.74it/s]\n"
          ]
        },
        {
          "output_type": "stream",
          "name": "stdout",
          "text": [
            "*** Epoch 6/30 ***\n"
          ]
        },
        {
          "output_type": "stream",
          "name": "stderr",
          "text": [
            "100%|██████████| 80419/80419 [00:01<00:00, 47551.92it/s]\n"
          ]
        },
        {
          "output_type": "stream",
          "name": "stdout",
          "text": [
            "*** Epoch 7/30 ***\n"
          ]
        },
        {
          "output_type": "stream",
          "name": "stderr",
          "text": [
            "100%|██████████| 80419/80419 [00:01<00:00, 46752.83it/s]\n"
          ]
        },
        {
          "output_type": "stream",
          "name": "stdout",
          "text": [
            "*** Epoch 8/30 ***\n"
          ]
        },
        {
          "output_type": "stream",
          "name": "stderr",
          "text": [
            "100%|██████████| 80419/80419 [00:01<00:00, 46584.59it/s]\n"
          ]
        },
        {
          "output_type": "stream",
          "name": "stdout",
          "text": [
            "*** Epoch 9/30 ***\n"
          ]
        },
        {
          "output_type": "stream",
          "name": "stderr",
          "text": [
            "100%|██████████| 80419/80419 [00:01<00:00, 48969.40it/s]\n"
          ]
        },
        {
          "output_type": "stream",
          "name": "stdout",
          "text": [
            "*** Epoch 10/30 ***\n"
          ]
        },
        {
          "output_type": "stream",
          "name": "stderr",
          "text": [
            "100%|██████████| 80419/80419 [00:02<00:00, 32578.67it/s]\n"
          ]
        },
        {
          "output_type": "stream",
          "name": "stdout",
          "text": [
            "*** Epoch 11/30 ***\n"
          ]
        },
        {
          "output_type": "stream",
          "name": "stderr",
          "text": [
            "100%|██████████| 80419/80419 [00:02<00:00, 33283.72it/s]\n"
          ]
        },
        {
          "output_type": "stream",
          "name": "stdout",
          "text": [
            "*** Epoch 12/30 ***\n"
          ]
        },
        {
          "output_type": "stream",
          "name": "stderr",
          "text": [
            "100%|██████████| 80419/80419 [00:01<00:00, 47010.45it/s]\n"
          ]
        },
        {
          "output_type": "stream",
          "name": "stdout",
          "text": [
            "*** Epoch 13/30 ***\n"
          ]
        },
        {
          "output_type": "stream",
          "name": "stderr",
          "text": [
            "100%|██████████| 80419/80419 [00:01<00:00, 47025.79it/s]\n"
          ]
        },
        {
          "output_type": "stream",
          "name": "stdout",
          "text": [
            "*** Epoch 14/30 ***\n"
          ]
        },
        {
          "output_type": "stream",
          "name": "stderr",
          "text": [
            "100%|██████████| 80419/80419 [00:01<00:00, 48280.25it/s]\n"
          ]
        },
        {
          "output_type": "stream",
          "name": "stdout",
          "text": [
            "*** Epoch 15/30 ***\n"
          ]
        },
        {
          "output_type": "stream",
          "name": "stderr",
          "text": [
            "100%|██████████| 80419/80419 [00:01<00:00, 45164.18it/s]\n"
          ]
        },
        {
          "output_type": "stream",
          "name": "stdout",
          "text": [
            "*** Epoch 16/30 ***\n"
          ]
        },
        {
          "output_type": "stream",
          "name": "stderr",
          "text": [
            "100%|██████████| 80419/80419 [00:01<00:00, 46264.16it/s]\n"
          ]
        },
        {
          "output_type": "stream",
          "name": "stdout",
          "text": [
            "*** Epoch 17/30 ***\n"
          ]
        },
        {
          "output_type": "stream",
          "name": "stderr",
          "text": [
            "100%|██████████| 80419/80419 [00:02<00:00, 31019.56it/s]\n"
          ]
        },
        {
          "output_type": "stream",
          "name": "stdout",
          "text": [
            "*** Epoch 18/30 ***\n"
          ]
        },
        {
          "output_type": "stream",
          "name": "stderr",
          "text": [
            "100%|██████████| 80419/80419 [00:02<00:00, 34084.87it/s]\n"
          ]
        },
        {
          "output_type": "stream",
          "name": "stdout",
          "text": [
            "*** Epoch 19/30 ***\n"
          ]
        },
        {
          "output_type": "stream",
          "name": "stderr",
          "text": [
            "100%|██████████| 80419/80419 [00:01<00:00, 47022.81it/s]\n"
          ]
        },
        {
          "output_type": "stream",
          "name": "stdout",
          "text": [
            "*** Epoch 20/30 ***\n"
          ]
        },
        {
          "output_type": "stream",
          "name": "stderr",
          "text": [
            "100%|██████████| 80419/80419 [00:01<00:00, 47486.39it/s]\n"
          ]
        },
        {
          "output_type": "stream",
          "name": "stdout",
          "text": [
            "*** Epoch 21/30 ***\n"
          ]
        },
        {
          "output_type": "stream",
          "name": "stderr",
          "text": [
            "100%|██████████| 80419/80419 [00:01<00:00, 45090.42it/s]\n"
          ]
        },
        {
          "output_type": "stream",
          "name": "stdout",
          "text": [
            "*** Epoch 22/30 ***\n"
          ]
        },
        {
          "output_type": "stream",
          "name": "stderr",
          "text": [
            "100%|██████████| 80419/80419 [00:03<00:00, 26253.26it/s]\n"
          ]
        },
        {
          "output_type": "stream",
          "name": "stdout",
          "text": [
            "*** Epoch 23/30 ***\n"
          ]
        },
        {
          "output_type": "stream",
          "name": "stderr",
          "text": [
            "100%|██████████| 80419/80419 [00:02<00:00, 27605.01it/s]\n"
          ]
        },
        {
          "output_type": "stream",
          "name": "stdout",
          "text": [
            "*** Epoch 24/30 ***\n"
          ]
        },
        {
          "output_type": "stream",
          "name": "stderr",
          "text": [
            "100%|██████████| 80419/80419 [00:02<00:00, 37287.06it/s]\n"
          ]
        },
        {
          "output_type": "stream",
          "name": "stdout",
          "text": [
            "*** Epoch 25/30 ***\n"
          ]
        },
        {
          "output_type": "stream",
          "name": "stderr",
          "text": [
            "100%|██████████| 80419/80419 [00:01<00:00, 46004.69it/s]\n"
          ]
        },
        {
          "output_type": "stream",
          "name": "stdout",
          "text": [
            "*** Epoch 26/30 ***\n"
          ]
        },
        {
          "output_type": "stream",
          "name": "stderr",
          "text": [
            "100%|██████████| 80419/80419 [00:01<00:00, 46049.01it/s]\n"
          ]
        },
        {
          "output_type": "stream",
          "name": "stdout",
          "text": [
            "*** Epoch 27/30 ***\n"
          ]
        },
        {
          "output_type": "stream",
          "name": "stderr",
          "text": [
            "100%|██████████| 80419/80419 [00:02<00:00, 38625.08it/s]\n"
          ]
        },
        {
          "output_type": "stream",
          "name": "stdout",
          "text": [
            "*** Epoch 28/30 ***\n"
          ]
        },
        {
          "output_type": "stream",
          "name": "stderr",
          "text": [
            "100%|██████████| 80419/80419 [00:01<00:00, 46331.17it/s]\n"
          ]
        },
        {
          "output_type": "stream",
          "name": "stdout",
          "text": [
            "*** Epoch 29/30 ***\n"
          ]
        },
        {
          "output_type": "stream",
          "name": "stderr",
          "text": [
            "100%|██████████| 80419/80419 [00:01<00:00, 40644.83it/s]\n"
          ]
        },
        {
          "output_type": "stream",
          "name": "stdout",
          "text": [
            "*** Epoch 30/30 ***\n"
          ]
        },
        {
          "output_type": "stream",
          "name": "stderr",
          "text": [
            "100%|██████████| 80419/80419 [00:02<00:00, 27130.11it/s]\n"
          ]
        },
        {
          "output_type": "stream",
          "name": "stdout",
          "text": [
            "Precision@10: 0.020491803278688485\n",
            "Recall@10: 0.00865903859071951\n"
          ]
        },
        {
          "output_type": "execute_result",
          "data": {
            "text/plain": [
              "(0.020491803278688485, 0.00865903859071951)"
            ]
          },
          "metadata": {},
          "execution_count": 248
        },
        {
          "output_type": "display_data",
          "data": {
            "text/plain": [
              "<Figure size 640x480 with 1 Axes>"
            ],
            "image/png": "[encoded data removed]"
          },
          "metadata": {}
        }
      ]
    },
    {
      "cell_type": "code",
      "source": [
        "mf_dp_sgd = MatrixFactorization(train_dataset, maps_dict, num_of_latent_factors, relevance=4, i_avg=i_avg, u_avg=u_avg)\n",
        "mf_dp_sgd.train_laplace_dp(learning_rate, lambda_regularization, num_of_epochs, 0.7 * eps)\n",
        "mf_dp_sgd.evaluate(test_dataset)"
      ],
      "metadata": {
        "colab": {
          "base_uri": "https://localhost:8080/",
          "height": 1000
        },
        "id": "Lz7zkfVXk0kb",
        "outputId": "0bada658-a068-4d58-db90-c9feb80c8dd3"
      },
      "execution_count": 250,
      "outputs": [
        {
          "output_type": "stream",
          "name": "stdout",
          "text": [
            " Epoch 1/30 started\n"
          ]
        },
        {
          "output_type": "stream",
          "name": "stderr",
          "text": [
            "100%|██████████| 80419/80419 [00:02<00:00, 28327.07it/s]\n"
          ]
        },
        {
          "output_type": "stream",
          "name": "stdout",
          "text": [
            " Epoch 2/30 started\n"
          ]
        },
        {
          "output_type": "stream",
          "name": "stderr",
          "text": [
            "100%|██████████| 80419/80419 [00:01<00:00, 42787.55it/s]\n"
          ]
        },
        {
          "output_type": "stream",
          "name": "stdout",
          "text": [
            " Epoch 3/30 started\n"
          ]
        },
        {
          "output_type": "stream",
          "name": "stderr",
          "text": [
            "100%|██████████| 80419/80419 [00:01<00:00, 44714.51it/s]\n"
          ]
        },
        {
          "output_type": "stream",
          "name": "stdout",
          "text": [
            " Epoch 4/30 started\n"
          ]
        },
        {
          "output_type": "stream",
          "name": "stderr",
          "text": [
            "100%|██████████| 80419/80419 [00:01<00:00, 43594.43it/s]\n"
          ]
        },
        {
          "output_type": "stream",
          "name": "stdout",
          "text": [
            " Epoch 5/30 started\n"
          ]
        },
        {
          "output_type": "stream",
          "name": "stderr",
          "text": [
            "100%|██████████| 80419/80419 [00:02<00:00, 26883.16it/s]\n"
          ]
        },
        {
          "output_type": "stream",
          "name": "stdout",
          "text": [
            " Epoch 6/30 started\n"
          ]
        },
        {
          "output_type": "stream",
          "name": "stderr",
          "text": [
            "100%|██████████| 80419/80419 [00:03<00:00, 22808.51it/s]\n"
          ]
        },
        {
          "output_type": "stream",
          "name": "stdout",
          "text": [
            " Epoch 7/30 started\n"
          ]
        },
        {
          "output_type": "stream",
          "name": "stderr",
          "text": [
            "100%|██████████| 80419/80419 [00:01<00:00, 45119.16it/s]\n"
          ]
        },
        {
          "output_type": "stream",
          "name": "stdout",
          "text": [
            " Epoch 8/30 started\n"
          ]
        },
        {
          "output_type": "stream",
          "name": "stderr",
          "text": [
            "100%|██████████| 80419/80419 [00:01<00:00, 44137.94it/s]\n"
          ]
        },
        {
          "output_type": "stream",
          "name": "stdout",
          "text": [
            " Epoch 9/30 started\n"
          ]
        },
        {
          "output_type": "stream",
          "name": "stderr",
          "text": [
            "100%|██████████| 80419/80419 [00:02<00:00, 31876.92it/s]\n"
          ]
        },
        {
          "output_type": "stream",
          "name": "stdout",
          "text": [
            " Epoch 10/30 started\n"
          ]
        },
        {
          "output_type": "stream",
          "name": "stderr",
          "text": [
            "100%|██████████| 80419/80419 [00:05<00:00, 15289.24it/s]\n"
          ]
        },
        {
          "output_type": "stream",
          "name": "stdout",
          "text": [
            " Epoch 11/30 started\n"
          ]
        },
        {
          "output_type": "stream",
          "name": "stderr",
          "text": [
            "100%|██████████| 80419/80419 [00:02<00:00, 35337.30it/s]\n"
          ]
        },
        {
          "output_type": "stream",
          "name": "stdout",
          "text": [
            " Epoch 12/30 started\n"
          ]
        },
        {
          "output_type": "stream",
          "name": "stderr",
          "text": [
            "100%|██████████| 80419/80419 [00:04<00:00, 19173.07it/s]\n"
          ]
        },
        {
          "output_type": "stream",
          "name": "stdout",
          "text": [
            " Epoch 13/30 started\n"
          ]
        },
        {
          "output_type": "stream",
          "name": "stderr",
          "text": [
            "100%|██████████| 80419/80419 [00:03<00:00, 26192.90it/s]\n"
          ]
        },
        {
          "output_type": "stream",
          "name": "stdout",
          "text": [
            " Epoch 14/30 started\n"
          ]
        },
        {
          "output_type": "stream",
          "name": "stderr",
          "text": [
            "100%|██████████| 80419/80419 [00:03<00:00, 24454.34it/s]\n"
          ]
        },
        {
          "output_type": "stream",
          "name": "stdout",
          "text": [
            " Epoch 15/30 started\n"
          ]
        },
        {
          "output_type": "stream",
          "name": "stderr",
          "text": [
            "100%|██████████| 80419/80419 [00:01<00:00, 45321.84it/s]\n"
          ]
        },
        {
          "output_type": "stream",
          "name": "stdout",
          "text": [
            " Epoch 16/30 started\n"
          ]
        },
        {
          "output_type": "stream",
          "name": "stderr",
          "text": [
            "100%|██████████| 80419/80419 [00:01<00:00, 41542.59it/s]\n"
          ]
        },
        {
          "output_type": "stream",
          "name": "stdout",
          "text": [
            " Epoch 17/30 started\n"
          ]
        },
        {
          "output_type": "stream",
          "name": "stderr",
          "text": [
            "100%|██████████| 80419/80419 [00:01<00:00, 44523.93it/s]\n"
          ]
        },
        {
          "output_type": "stream",
          "name": "stdout",
          "text": [
            " Epoch 18/30 started\n"
          ]
        },
        {
          "output_type": "stream",
          "name": "stderr",
          "text": [
            "100%|██████████| 80419/80419 [00:01<00:00, 44601.96it/s]\n"
          ]
        },
        {
          "output_type": "stream",
          "name": "stdout",
          "text": [
            " Epoch 19/30 started\n"
          ]
        },
        {
          "output_type": "stream",
          "name": "stderr",
          "text": [
            "100%|██████████| 80419/80419 [00:01<00:00, 44365.91it/s]\n"
          ]
        },
        {
          "output_type": "stream",
          "name": "stdout",
          "text": [
            " Epoch 20/30 started\n"
          ]
        },
        {
          "output_type": "stream",
          "name": "stderr",
          "text": [
            "100%|██████████| 80419/80419 [00:02<00:00, 28976.89it/s]\n"
          ]
        },
        {
          "output_type": "stream",
          "name": "stdout",
          "text": [
            " Epoch 21/30 started\n"
          ]
        },
        {
          "output_type": "stream",
          "name": "stderr",
          "text": [
            "100%|██████████| 80419/80419 [00:02<00:00, 34540.95it/s]\n"
          ]
        },
        {
          "output_type": "stream",
          "name": "stdout",
          "text": [
            " Epoch 22/30 started\n"
          ]
        },
        {
          "output_type": "stream",
          "name": "stderr",
          "text": [
            "100%|██████████| 80419/80419 [00:01<00:00, 45616.74it/s]\n"
          ]
        },
        {
          "output_type": "stream",
          "name": "stdout",
          "text": [
            " Epoch 23/30 started\n"
          ]
        },
        {
          "output_type": "stream",
          "name": "stderr",
          "text": [
            "100%|██████████| 80419/80419 [00:01<00:00, 44758.21it/s]\n"
          ]
        },
        {
          "output_type": "stream",
          "name": "stdout",
          "text": [
            " Epoch 24/30 started\n"
          ]
        },
        {
          "output_type": "stream",
          "name": "stderr",
          "text": [
            "100%|██████████| 80419/80419 [00:01<00:00, 46074.85it/s]\n"
          ]
        },
        {
          "output_type": "stream",
          "name": "stdout",
          "text": [
            " Epoch 25/30 started\n"
          ]
        },
        {
          "output_type": "stream",
          "name": "stderr",
          "text": [
            "100%|██████████| 80419/80419 [00:01<00:00, 43204.48it/s]\n"
          ]
        },
        {
          "output_type": "stream",
          "name": "stdout",
          "text": [
            " Epoch 26/30 started\n"
          ]
        },
        {
          "output_type": "stream",
          "name": "stderr",
          "text": [
            "100%|██████████| 80419/80419 [00:01<00:00, 42693.02it/s]\n"
          ]
        },
        {
          "output_type": "stream",
          "name": "stdout",
          "text": [
            " Epoch 27/30 started\n"
          ]
        },
        {
          "output_type": "stream",
          "name": "stderr",
          "text": [
            "100%|██████████| 80419/80419 [00:03<00:00, 25839.86it/s]\n"
          ]
        },
        {
          "output_type": "stream",
          "name": "stdout",
          "text": [
            " Epoch 28/30 started\n"
          ]
        },
        {
          "output_type": "stream",
          "name": "stderr",
          "text": [
            "100%|██████████| 80419/80419 [00:01<00:00, 44970.58it/s]\n"
          ]
        },
        {
          "output_type": "stream",
          "name": "stdout",
          "text": [
            " Epoch 29/30 started\n"
          ]
        },
        {
          "output_type": "stream",
          "name": "stderr",
          "text": [
            "100%|██████████| 80419/80419 [00:01<00:00, 44165.81it/s]\n"
          ]
        },
        {
          "output_type": "stream",
          "name": "stdout",
          "text": [
            " Epoch 30/30 started\n"
          ]
        },
        {
          "output_type": "stream",
          "name": "stderr",
          "text": [
            "100%|██████████| 80419/80419 [00:01<00:00, 45507.29it/s]\n"
          ]
        },
        {
          "output_type": "stream",
          "name": "stdout",
          "text": [
            "TL: [38.62129720111559, 38.67653516056894, 38.56381173700862, 38.66580826499252, 38.79194880891551, 38.41660614644643, 38.5828726903345, 39.036728723701415, 38.5006742608195, 38.438998642077394, 38.49658697781682, 38.8954537016314, 38.49861331134405, 38.65754201965382, 38.50601790747633, 38.60262003546783, 38.62972354084728, 38.66925298450887, 38.63595441725779, 38.61353403591644, 38.73796924432584, 38.66342036111248, 38.59730176203941, 38.71096950920638, 38.85472787440291, 38.64275364278488, 38.70696690210543, 38.74408804278524, 39.07029600314887, 38.799637387807635]\n",
            "Epochs: [0, 1, 2, 3, 4, 5, 6, 7, 8, 9, 10, 11, 12, 13, 14, 15, 16, 17, 18, 19, 20, 21, 22, 23, 24, 25, 26, 27, 28, 29]\n",
            "Precision@10: 0.020655737704917996\n",
            "Recall@10: 0.010018215171984928\n"
          ]
        },
        {
          "output_type": "execute_result",
          "data": {
            "text/plain": [
              "(0.020655737704917996, 0.010018215171984928)"
            ]
          },
          "metadata": {},
          "execution_count": 250
        },
        {
          "output_type": "display_data",
          "data": {
            "text/plain": [
              "<Figure size 640x480 with 1 Axes>"
            ],
            "image/png": "[encoded data removed]"
          },
          "metadata": {}
        }
      ]
    },
    {
      "cell_type": "code",
      "source": [
        "eps_values = [0.2, 1, 5]\n",
        "results = {}\n",
        "for eps in eps_values:\n",
        "    print(f\"eps {eps}\")\n",
        "    eps_global_avg = 0.02 * eps\n",
        "    eps_item_avg = 0.14 * eps\n",
        "    eps_user_avg = 0.14 * eps\n",
        "    b_m = 5\n",
        "    b_u = 5\n",
        "    clamping = 1\n",
        "    preproc_train_set, i_avg, u_avg = privatize_global_effects(train_dataset, b_m, b_u, eps_global_avg, eps_item_avg,\n",
        "                                                               eps_user_avg, clamping)\n",
        "    train_set_perturbed = input_perturbation(train_dataset, 1, 0.7 * eps)\n",
        "    mf_dp_data = MatrixFactorization(train_set_perturbed, maps_dict, num_of_latent_factors, relevance=4, i_avg=i_avg, u_avg=u_avg)\n",
        "    mf_dp_data.train(learning_rate, lambda_regularization, num_of_epochs)\n",
        "    p_d, r_d = mf_dp_data.evaluate(test_dataset)\n",
        "\n",
        "    mf_dp_sgd = MatrixFactorization(train_dataset, maps_dict, num_of_latent_factors, relevance=4, i_avg=i_avg, u_avg=u_avg)\n",
        "    mf_dp_sgd.train_laplace_dp(learning_rate, lambda_regularization, num_of_epochs, 0.7 * eps)\n",
        "    p_m, r_m = mf_dp_sgd.evaluate(test_dataset)\n",
        "\n",
        "    results.update({eps: (p_d, r_d, p_m, r_m)})"
      ],
      "metadata": {
        "colab": {
          "base_uri": "https://localhost:8080/",
          "height": 1000
        },
        "id": "_4FkjOyTk3eq",
        "outputId": "f5edcbe3-f86e-4469-b78d-09439b60af59"
      },
      "execution_count": 259,
      "outputs": [
        {
          "output_type": "stream",
          "name": "stdout",
          "text": [
            "eps 0.2\n",
            "*** Epoch 1/30 ***\n"
          ]
        },
        {
          "output_type": "stream",
          "name": "stderr",
          "text": [
            "100%|██████████| 80419/80419 [00:01<00:00, 47780.47it/s]\n"
          ]
        },
        {
          "output_type": "stream",
          "name": "stdout",
          "text": [
            "*** Epoch 2/30 ***\n"
          ]
        },
        {
          "output_type": "stream",
          "name": "stderr",
          "text": [
            "100%|██████████| 80419/80419 [00:01<00:00, 48001.00it/s]\n"
          ]
        },
        {
          "output_type": "stream",
          "name": "stdout",
          "text": [
            "*** Epoch 3/30 ***\n"
          ]
        },
        {
          "output_type": "stream",
          "name": "stderr",
          "text": [
            "100%|██████████| 80419/80419 [00:01<00:00, 46955.04it/s]\n"
          ]
        },
        {
          "output_type": "stream",
          "name": "stdout",
          "text": [
            "*** Epoch 4/30 ***\n"
          ]
        },
        {
          "output_type": "stream",
          "name": "stderr",
          "text": [
            "100%|██████████| 80419/80419 [00:01<00:00, 48524.95it/s]\n"
          ]
        },
        {
          "output_type": "stream",
          "name": "stdout",
          "text": [
            "*** Epoch 5/30 ***\n"
          ]
        },
        {
          "output_type": "stream",
          "name": "stderr",
          "text": [
            "100%|██████████| 80419/80419 [00:02<00:00, 33168.23it/s]\n"
          ]
        },
        {
          "output_type": "stream",
          "name": "stdout",
          "text": [
            "*** Epoch 6/30 ***\n"
          ]
        },
        {
          "output_type": "stream",
          "name": "stderr",
          "text": [
            "100%|██████████| 80419/80419 [00:02<00:00, 34580.24it/s]\n"
          ]
        },
        {
          "output_type": "stream",
          "name": "stdout",
          "text": [
            "*** Epoch 7/30 ***\n"
          ]
        },
        {
          "output_type": "stream",
          "name": "stderr",
          "text": [
            "100%|██████████| 80419/80419 [00:01<00:00, 47183.09it/s]\n"
          ]
        },
        {
          "output_type": "stream",
          "name": "stdout",
          "text": [
            "*** Epoch 8/30 ***\n"
          ]
        },
        {
          "output_type": "stream",
          "name": "stderr",
          "text": [
            "100%|██████████| 80419/80419 [00:01<00:00, 47142.63it/s]\n"
          ]
        },
        {
          "output_type": "stream",
          "name": "stdout",
          "text": [
            "*** Epoch 9/30 ***\n"
          ]
        },
        {
          "output_type": "stream",
          "name": "stderr",
          "text": [
            "100%|██████████| 80419/80419 [00:01<00:00, 47672.76it/s]\n"
          ]
        },
        {
          "output_type": "stream",
          "name": "stdout",
          "text": [
            "*** Epoch 10/30 ***\n"
          ]
        },
        {
          "output_type": "stream",
          "name": "stderr",
          "text": [
            "100%|██████████| 80419/80419 [00:01<00:00, 47259.57it/s]\n"
          ]
        },
        {
          "output_type": "stream",
          "name": "stdout",
          "text": [
            "*** Epoch 11/30 ***\n"
          ]
        },
        {
          "output_type": "stream",
          "name": "stderr",
          "text": [
            "100%|██████████| 80419/80419 [00:01<00:00, 46872.42it/s]\n"
          ]
        },
        {
          "output_type": "stream",
          "name": "stdout",
          "text": [
            "*** Epoch 12/30 ***\n"
          ]
        },
        {
          "output_type": "stream",
          "name": "stderr",
          "text": [
            "100%|██████████| 80419/80419 [00:02<00:00, 28901.12it/s]\n"
          ]
        },
        {
          "output_type": "stream",
          "name": "stdout",
          "text": [
            "*** Epoch 13/30 ***\n"
          ]
        },
        {
          "output_type": "stream",
          "name": "stderr",
          "text": [
            "100%|██████████| 80419/80419 [00:02<00:00, 37471.11it/s]\n"
          ]
        },
        {
          "output_type": "stream",
          "name": "stdout",
          "text": [
            "*** Epoch 14/30 ***\n"
          ]
        },
        {
          "output_type": "stream",
          "name": "stderr",
          "text": [
            "100%|██████████| 80419/80419 [00:01<00:00, 46716.73it/s]\n"
          ]
        },
        {
          "output_type": "stream",
          "name": "stdout",
          "text": [
            "*** Epoch 15/30 ***\n"
          ]
        },
        {
          "output_type": "stream",
          "name": "stderr",
          "text": [
            "100%|██████████| 80419/80419 [00:01<00:00, 49113.92it/s]\n"
          ]
        },
        {
          "output_type": "stream",
          "name": "stdout",
          "text": [
            "*** Epoch 16/30 ***\n"
          ]
        },
        {
          "output_type": "stream",
          "name": "stderr",
          "text": [
            "100%|██████████| 80419/80419 [00:01<00:00, 44304.12it/s]\n"
          ]
        },
        {
          "output_type": "stream",
          "name": "stdout",
          "text": [
            "*** Epoch 17/30 ***\n"
          ]
        },
        {
          "output_type": "stream",
          "name": "stderr",
          "text": [
            "100%|██████████| 80419/80419 [00:01<00:00, 45456.84it/s]\n"
          ]
        },
        {
          "output_type": "stream",
          "name": "stdout",
          "text": [
            "*** Epoch 18/30 ***\n"
          ]
        },
        {
          "output_type": "stream",
          "name": "stderr",
          "text": [
            "100%|██████████| 80419/80419 [00:01<00:00, 47218.93it/s]\n"
          ]
        },
        {
          "output_type": "stream",
          "name": "stdout",
          "text": [
            "*** Epoch 19/30 ***\n"
          ]
        },
        {
          "output_type": "stream",
          "name": "stderr",
          "text": [
            "100%|██████████| 80419/80419 [00:02<00:00, 27211.44it/s]\n"
          ]
        },
        {
          "output_type": "stream",
          "name": "stdout",
          "text": [
            "*** Epoch 20/30 ***\n"
          ]
        },
        {
          "output_type": "stream",
          "name": "stderr",
          "text": [
            "100%|██████████| 80419/80419 [00:01<00:00, 42512.02it/s]\n"
          ]
        },
        {
          "output_type": "stream",
          "name": "stdout",
          "text": [
            "*** Epoch 21/30 ***\n"
          ]
        },
        {
          "output_type": "stream",
          "name": "stderr",
          "text": [
            "100%|██████████| 80419/80419 [00:01<00:00, 47034.19it/s]\n"
          ]
        },
        {
          "output_type": "stream",
          "name": "stdout",
          "text": [
            "*** Epoch 22/30 ***\n"
          ]
        },
        {
          "output_type": "stream",
          "name": "stderr",
          "text": [
            "100%|██████████| 80419/80419 [00:01<00:00, 47819.26it/s]\n"
          ]
        },
        {
          "output_type": "stream",
          "name": "stdout",
          "text": [
            "*** Epoch 23/30 ***\n"
          ]
        },
        {
          "output_type": "stream",
          "name": "stderr",
          "text": [
            "100%|██████████| 80419/80419 [00:01<00:00, 47582.49it/s]\n"
          ]
        },
        {
          "output_type": "stream",
          "name": "stdout",
          "text": [
            "*** Epoch 24/30 ***\n"
          ]
        },
        {
          "output_type": "stream",
          "name": "stderr",
          "text": [
            "100%|██████████| 80419/80419 [00:01<00:00, 47017.23it/s]\n"
          ]
        },
        {
          "output_type": "stream",
          "name": "stdout",
          "text": [
            "*** Epoch 25/30 ***\n"
          ]
        },
        {
          "output_type": "stream",
          "name": "stderr",
          "text": [
            "100%|██████████| 80419/80419 [00:01<00:00, 48075.35it/s]\n"
          ]
        },
        {
          "output_type": "stream",
          "name": "stdout",
          "text": [
            "*** Epoch 26/30 ***\n"
          ]
        },
        {
          "output_type": "stream",
          "name": "stderr",
          "text": [
            "100%|██████████| 80419/80419 [00:03<00:00, 26262.90it/s]\n"
          ]
        },
        {
          "output_type": "stream",
          "name": "stdout",
          "text": [
            "*** Epoch 27/30 ***\n"
          ]
        },
        {
          "output_type": "stream",
          "name": "stderr",
          "text": [
            "100%|██████████| 80419/80419 [00:01<00:00, 47219.74it/s]\n"
          ]
        },
        {
          "output_type": "stream",
          "name": "stdout",
          "text": [
            "*** Epoch 28/30 ***\n"
          ]
        },
        {
          "output_type": "stream",
          "name": "stderr",
          "text": [
            "100%|██████████| 80419/80419 [00:01<00:00, 44717.33it/s]\n"
          ]
        },
        {
          "output_type": "stream",
          "name": "stdout",
          "text": [
            "*** Epoch 29/30 ***\n"
          ]
        },
        {
          "output_type": "stream",
          "name": "stderr",
          "text": [
            "100%|██████████| 80419/80419 [00:01<00:00, 46295.16it/s]\n"
          ]
        },
        {
          "output_type": "stream",
          "name": "stdout",
          "text": [
            "*** Epoch 30/30 ***\n"
          ]
        },
        {
          "output_type": "stream",
          "name": "stderr",
          "text": [
            "100%|██████████| 80419/80419 [00:01<00:00, 46928.34it/s]\n"
          ]
        },
        {
          "output_type": "stream",
          "name": "stdout",
          "text": [
            "Precision@10: 0.014918032786885221\n",
            "Recall@10: 0.0057365161686028275\n",
            " Epoch 1/30 started\n"
          ]
        },
        {
          "output_type": "stream",
          "name": "stderr",
          "text": [
            "  0%|          | 0/80419 [00:00<?, ?it/s]<ipython-input-238-7b83070faeca>:104: RuntimeWarning: overflow encountered in multiply\n",
            "  self.q[self.dataset['itemId'][i]] = q_i + lr * (err * p_u)\n",
            "<ipython-input-238-7b83070faeca>:100: RuntimeWarning: invalid value encountered in double_scalars\n",
            "  self.b_u[self.dataset['userId'][i]] += lr * (err - beta * self.b_u[self.dataset['userId'][i]])\n",
            "<ipython-input-238-7b83070faeca>:103: RuntimeWarning: invalid value encountered in add\n",
            "  self.p[self.dataset['userId'][i]] = p_u + lr * (err * q_i)\n",
            "<ipython-input-238-7b83070faeca>:103: RuntimeWarning: overflow encountered in multiply\n",
            "  self.p[self.dataset['userId'][i]] = p_u + lr * (err * q_i)\n",
            "100%|██████████| 80419/80419 [00:03<00:00, 26711.56it/s]\n"
          ]
        },
        {
          "output_type": "stream",
          "name": "stdout",
          "text": [
            " Epoch 2/30 started\n"
          ]
        },
        {
          "output_type": "stream",
          "name": "stderr",
          "text": [
            "100%|██████████| 80419/80419 [00:01<00:00, 41614.57it/s]\n"
          ]
        },
        {
          "output_type": "stream",
          "name": "stdout",
          "text": [
            " Epoch 3/30 started\n"
          ]
        },
        {
          "output_type": "stream",
          "name": "stderr",
          "text": [
            "100%|██████████| 80419/80419 [00:01<00:00, 44369.42it/s]\n"
          ]
        },
        {
          "output_type": "stream",
          "name": "stdout",
          "text": [
            " Epoch 4/30 started\n"
          ]
        },
        {
          "output_type": "stream",
          "name": "stderr",
          "text": [
            "100%|██████████| 80419/80419 [00:01<00:00, 44238.04it/s]\n"
          ]
        },
        {
          "output_type": "stream",
          "name": "stdout",
          "text": [
            " Epoch 5/30 started\n"
          ]
        },
        {
          "output_type": "stream",
          "name": "stderr",
          "text": [
            "100%|██████████| 80419/80419 [00:01<00:00, 44381.38it/s]\n"
          ]
        },
        {
          "output_type": "stream",
          "name": "stdout",
          "text": [
            " Epoch 6/30 started\n"
          ]
        },
        {
          "output_type": "stream",
          "name": "stderr",
          "text": [
            "100%|██████████| 80419/80419 [00:01<00:00, 43149.26it/s]\n"
          ]
        },
        {
          "output_type": "stream",
          "name": "stdout",
          "text": [
            " Epoch 7/30 started\n"
          ]
        },
        {
          "output_type": "stream",
          "name": "stderr",
          "text": [
            "100%|██████████| 80419/80419 [00:02<00:00, 33349.01it/s]\n"
          ]
        },
        {
          "output_type": "stream",
          "name": "stdout",
          "text": [
            " Epoch 8/30 started\n"
          ]
        },
        {
          "output_type": "stream",
          "name": "stderr",
          "text": [
            "100%|██████████| 80419/80419 [00:02<00:00, 30801.59it/s]\n"
          ]
        },
        {
          "output_type": "stream",
          "name": "stdout",
          "text": [
            " Epoch 9/30 started\n"
          ]
        },
        {
          "output_type": "stream",
          "name": "stderr",
          "text": [
            "100%|██████████| 80419/80419 [00:01<00:00, 43709.53it/s]\n"
          ]
        },
        {
          "output_type": "stream",
          "name": "stdout",
          "text": [
            " Epoch 10/30 started\n"
          ]
        },
        {
          "output_type": "stream",
          "name": "stderr",
          "text": [
            "100%|██████████| 80419/80419 [00:01<00:00, 44046.76it/s]\n"
          ]
        },
        {
          "output_type": "stream",
          "name": "stdout",
          "text": [
            " Epoch 11/30 started\n"
          ]
        },
        {
          "output_type": "stream",
          "name": "stderr",
          "text": [
            "100%|██████████| 80419/80419 [00:01<00:00, 42582.23it/s]\n"
          ]
        },
        {
          "output_type": "stream",
          "name": "stdout",
          "text": [
            " Epoch 12/30 started\n"
          ]
        },
        {
          "output_type": "stream",
          "name": "stderr",
          "text": [
            "100%|██████████| 80419/80419 [00:01<00:00, 44927.20it/s]\n"
          ]
        },
        {
          "output_type": "stream",
          "name": "stdout",
          "text": [
            " Epoch 13/30 started\n"
          ]
        },
        {
          "output_type": "stream",
          "name": "stderr",
          "text": [
            "100%|██████████| 80419/80419 [00:02<00:00, 38365.01it/s]\n"
          ]
        },
        {
          "output_type": "stream",
          "name": "stdout",
          "text": [
            " Epoch 14/30 started\n"
          ]
        },
        {
          "output_type": "stream",
          "name": "stderr",
          "text": [
            "100%|██████████| 80419/80419 [00:03<00:00, 26389.64it/s]\n"
          ]
        },
        {
          "output_type": "stream",
          "name": "stdout",
          "text": [
            " Epoch 15/30 started\n"
          ]
        },
        {
          "output_type": "stream",
          "name": "stderr",
          "text": [
            "100%|██████████| 80419/80419 [00:01<00:00, 44307.78it/s]\n"
          ]
        },
        {
          "output_type": "stream",
          "name": "stdout",
          "text": [
            " Epoch 16/30 started\n"
          ]
        },
        {
          "output_type": "stream",
          "name": "stderr",
          "text": [
            "100%|██████████| 80419/80419 [00:01<00:00, 42642.40it/s]\n"
          ]
        },
        {
          "output_type": "stream",
          "name": "stdout",
          "text": [
            " Epoch 17/30 started\n"
          ]
        },
        {
          "output_type": "stream",
          "name": "stderr",
          "text": [
            "100%|██████████| 80419/80419 [00:01<00:00, 42861.54it/s]\n"
          ]
        },
        {
          "output_type": "stream",
          "name": "stdout",
          "text": [
            " Epoch 18/30 started\n"
          ]
        },
        {
          "output_type": "stream",
          "name": "stderr",
          "text": [
            "100%|██████████| 80419/80419 [00:01<00:00, 44137.55it/s]\n"
          ]
        },
        {
          "output_type": "stream",
          "name": "stdout",
          "text": [
            " Epoch 19/30 started\n"
          ]
        },
        {
          "output_type": "stream",
          "name": "stderr",
          "text": [
            "100%|██████████| 80419/80419 [00:01<00:00, 44204.54it/s]\n"
          ]
        },
        {
          "output_type": "stream",
          "name": "stdout",
          "text": [
            " Epoch 20/30 started\n"
          ]
        },
        {
          "output_type": "stream",
          "name": "stderr",
          "text": [
            "100%|██████████| 80419/80419 [00:02<00:00, 28008.54it/s]\n"
          ]
        },
        {
          "output_type": "stream",
          "name": "stdout",
          "text": [
            " Epoch 21/30 started\n"
          ]
        },
        {
          "output_type": "stream",
          "name": "stderr",
          "text": [
            "100%|██████████| 80419/80419 [00:02<00:00, 36891.07it/s]\n"
          ]
        },
        {
          "output_type": "stream",
          "name": "stdout",
          "text": [
            " Epoch 22/30 started\n"
          ]
        },
        {
          "output_type": "stream",
          "name": "stderr",
          "text": [
            "100%|██████████| 80419/80419 [00:01<00:00, 44096.50it/s]\n"
          ]
        },
        {
          "output_type": "stream",
          "name": "stdout",
          "text": [
            " Epoch 23/30 started\n"
          ]
        },
        {
          "output_type": "stream",
          "name": "stderr",
          "text": [
            "100%|██████████| 80419/80419 [00:01<00:00, 43953.01it/s]\n"
          ]
        },
        {
          "output_type": "stream",
          "name": "stdout",
          "text": [
            " Epoch 24/30 started\n"
          ]
        },
        {
          "output_type": "stream",
          "name": "stderr",
          "text": [
            "100%|██████████| 80419/80419 [00:01<00:00, 44273.37it/s]\n"
          ]
        },
        {
          "output_type": "stream",
          "name": "stdout",
          "text": [
            " Epoch 25/30 started\n"
          ]
        },
        {
          "output_type": "stream",
          "name": "stderr",
          "text": [
            "100%|██████████| 80419/80419 [00:01<00:00, 43958.75it/s]\n"
          ]
        },
        {
          "output_type": "stream",
          "name": "stdout",
          "text": [
            " Epoch 26/30 started\n"
          ]
        },
        {
          "output_type": "stream",
          "name": "stderr",
          "text": [
            "100%|██████████| 80419/80419 [00:02<00:00, 36785.82it/s]\n"
          ]
        },
        {
          "output_type": "stream",
          "name": "stdout",
          "text": [
            " Epoch 27/30 started\n"
          ]
        },
        {
          "output_type": "stream",
          "name": "stderr",
          "text": [
            "100%|██████████| 80419/80419 [00:02<00:00, 29137.00it/s]\n"
          ]
        },
        {
          "output_type": "stream",
          "name": "stdout",
          "text": [
            " Epoch 28/30 started\n"
          ]
        },
        {
          "output_type": "stream",
          "name": "stderr",
          "text": [
            "100%|██████████| 80419/80419 [00:01<00:00, 45000.46it/s]\n"
          ]
        },
        {
          "output_type": "stream",
          "name": "stdout",
          "text": [
            " Epoch 29/30 started\n"
          ]
        },
        {
          "output_type": "stream",
          "name": "stderr",
          "text": [
            "100%|██████████| 80419/80419 [00:01<00:00, 44652.00it/s]\n"
          ]
        },
        {
          "output_type": "stream",
          "name": "stdout",
          "text": [
            " Epoch 30/30 started\n"
          ]
        },
        {
          "output_type": "stream",
          "name": "stderr",
          "text": [
            "100%|██████████| 80419/80419 [00:01<00:00, 42610.19it/s]\n"
          ]
        },
        {
          "output_type": "stream",
          "name": "stdout",
          "text": [
            "TL: [nan, nan, nan, nan, nan, nan, nan, nan, nan, nan, nan, nan, nan, nan, nan, nan, nan, nan, nan, nan, nan, nan, nan, nan, nan, nan, nan, nan, nan, nan]\n",
            "Epochs: [0, 1, 2, 3, 4, 5, 6, 7, 8, 9, 10, 11, 12, 13, 14, 15, 16, 17, 18, 19, 20, 21, 22, 23, 24, 25, 26, 27, 28, 29]\n",
            "Precision@10: 0.003442622950819673\n",
            "Recall@10: 0.0008590498525753539\n",
            "eps 1\n",
            "*** Epoch 1/30 ***\n"
          ]
        },
        {
          "output_type": "stream",
          "name": "stderr",
          "text": [
            "100%|██████████| 80419/80419 [00:03<00:00, 26259.51it/s]\n"
          ]
        },
        {
          "output_type": "stream",
          "name": "stdout",
          "text": [
            "*** Epoch 2/30 ***\n"
          ]
        },
        {
          "output_type": "stream",
          "name": "stderr",
          "text": [
            "100%|██████████| 80419/80419 [00:01<00:00, 46542.66it/s]\n"
          ]
        },
        {
          "output_type": "stream",
          "name": "stdout",
          "text": [
            "*** Epoch 3/30 ***\n"
          ]
        },
        {
          "output_type": "stream",
          "name": "stderr",
          "text": [
            "100%|██████████| 80419/80419 [00:01<00:00, 46614.60it/s]\n"
          ]
        },
        {
          "output_type": "stream",
          "name": "stdout",
          "text": [
            "*** Epoch 4/30 ***\n"
          ]
        },
        {
          "output_type": "stream",
          "name": "stderr",
          "text": [
            "100%|██████████| 80419/80419 [00:01<00:00, 46902.92it/s]\n"
          ]
        },
        {
          "output_type": "stream",
          "name": "stdout",
          "text": [
            "*** Epoch 5/30 ***\n"
          ]
        },
        {
          "output_type": "stream",
          "name": "stderr",
          "text": [
            "100%|██████████| 80419/80419 [00:01<00:00, 47415.26it/s]\n"
          ]
        },
        {
          "output_type": "stream",
          "name": "stdout",
          "text": [
            "*** Epoch 6/30 ***\n"
          ]
        },
        {
          "output_type": "stream",
          "name": "stderr",
          "text": [
            "100%|██████████| 80419/80419 [00:01<00:00, 45143.78it/s]\n"
          ]
        },
        {
          "output_type": "stream",
          "name": "stdout",
          "text": [
            "*** Epoch 7/30 ***\n"
          ]
        },
        {
          "output_type": "stream",
          "name": "stderr",
          "text": [
            "100%|██████████| 80419/80419 [00:02<00:00, 37873.66it/s]\n"
          ]
        },
        {
          "output_type": "stream",
          "name": "stdout",
          "text": [
            "*** Epoch 8/30 ***\n"
          ]
        },
        {
          "output_type": "stream",
          "name": "stderr",
          "text": [
            "100%|██████████| 80419/80419 [00:02<00:00, 29169.04it/s]\n"
          ]
        },
        {
          "output_type": "stream",
          "name": "stdout",
          "text": [
            "*** Epoch 9/30 ***\n"
          ]
        },
        {
          "output_type": "stream",
          "name": "stderr",
          "text": [
            "100%|██████████| 80419/80419 [00:01<00:00, 47792.88it/s]\n"
          ]
        },
        {
          "output_type": "stream",
          "name": "stdout",
          "text": [
            "*** Epoch 10/30 ***\n"
          ]
        },
        {
          "output_type": "stream",
          "name": "stderr",
          "text": [
            "100%|██████████| 80419/80419 [00:01<00:00, 46614.61it/s]\n"
          ]
        },
        {
          "output_type": "stream",
          "name": "stdout",
          "text": [
            "*** Epoch 11/30 ***\n"
          ]
        },
        {
          "output_type": "stream",
          "name": "stderr",
          "text": [
            "100%|██████████| 80419/80419 [00:01<00:00, 47337.89it/s]\n"
          ]
        },
        {
          "output_type": "stream",
          "name": "stdout",
          "text": [
            "*** Epoch 12/30 ***\n"
          ]
        },
        {
          "output_type": "stream",
          "name": "stderr",
          "text": [
            "100%|██████████| 80419/80419 [00:01<00:00, 47916.47it/s]\n"
          ]
        },
        {
          "output_type": "stream",
          "name": "stdout",
          "text": [
            "*** Epoch 13/30 ***\n"
          ]
        },
        {
          "output_type": "stream",
          "name": "stderr",
          "text": [
            "100%|██████████| 80419/80419 [00:01<00:00, 47004.68it/s]\n"
          ]
        },
        {
          "output_type": "stream",
          "name": "stdout",
          "text": [
            "*** Epoch 14/30 ***\n"
          ]
        },
        {
          "output_type": "stream",
          "name": "stderr",
          "text": [
            "100%|██████████| 80419/80419 [00:02<00:00, 35061.76it/s]\n"
          ]
        },
        {
          "output_type": "stream",
          "name": "stdout",
          "text": [
            "*** Epoch 15/30 ***\n"
          ]
        },
        {
          "output_type": "stream",
          "name": "stderr",
          "text": [
            "100%|██████████| 80419/80419 [00:02<00:00, 31262.66it/s]\n"
          ]
        },
        {
          "output_type": "stream",
          "name": "stdout",
          "text": [
            "*** Epoch 16/30 ***\n"
          ]
        },
        {
          "output_type": "stream",
          "name": "stderr",
          "text": [
            "100%|██████████| 80419/80419 [00:01<00:00, 46908.74it/s]\n"
          ]
        },
        {
          "output_type": "stream",
          "name": "stdout",
          "text": [
            "*** Epoch 17/30 ***\n"
          ]
        },
        {
          "output_type": "stream",
          "name": "stderr",
          "text": [
            "100%|██████████| 80419/80419 [00:01<00:00, 47645.28it/s]\n"
          ]
        },
        {
          "output_type": "stream",
          "name": "stdout",
          "text": [
            "*** Epoch 18/30 ***\n"
          ]
        },
        {
          "output_type": "stream",
          "name": "stderr",
          "text": [
            "100%|██████████| 80419/80419 [00:01<00:00, 45003.59it/s]\n"
          ]
        },
        {
          "output_type": "stream",
          "name": "stdout",
          "text": [
            "*** Epoch 19/30 ***\n"
          ]
        },
        {
          "output_type": "stream",
          "name": "stderr",
          "text": [
            "100%|██████████| 80419/80419 [00:01<00:00, 46589.98it/s]\n"
          ]
        },
        {
          "output_type": "stream",
          "name": "stdout",
          "text": [
            "*** Epoch 20/30 ***\n"
          ]
        },
        {
          "output_type": "stream",
          "name": "stderr",
          "text": [
            "100%|██████████| 80419/80419 [00:01<00:00, 46217.02it/s]\n"
          ]
        },
        {
          "output_type": "stream",
          "name": "stdout",
          "text": [
            "*** Epoch 21/30 ***\n"
          ]
        },
        {
          "output_type": "stream",
          "name": "stderr",
          "text": [
            "100%|██████████| 80419/80419 [00:02<00:00, 31929.84it/s]\n"
          ]
        },
        {
          "output_type": "stream",
          "name": "stdout",
          "text": [
            "*** Epoch 22/30 ***\n"
          ]
        },
        {
          "output_type": "stream",
          "name": "stderr",
          "text": [
            "100%|██████████| 80419/80419 [00:02<00:00, 34074.27it/s]\n"
          ]
        },
        {
          "output_type": "stream",
          "name": "stdout",
          "text": [
            "*** Epoch 23/30 ***\n"
          ]
        },
        {
          "output_type": "stream",
          "name": "stderr",
          "text": [
            "100%|██████████| 80419/80419 [00:01<00:00, 47293.15it/s]\n"
          ]
        },
        {
          "output_type": "stream",
          "name": "stdout",
          "text": [
            "*** Epoch 24/30 ***\n"
          ]
        },
        {
          "output_type": "stream",
          "name": "stderr",
          "text": [
            "100%|██████████| 80419/80419 [00:01<00:00, 47009.68it/s]\n"
          ]
        },
        {
          "output_type": "stream",
          "name": "stdout",
          "text": [
            "*** Epoch 25/30 ***\n"
          ]
        },
        {
          "output_type": "stream",
          "name": "stderr",
          "text": [
            "100%|██████████| 80419/80419 [00:01<00:00, 45571.36it/s]\n"
          ]
        },
        {
          "output_type": "stream",
          "name": "stdout",
          "text": [
            "*** Epoch 26/30 ***\n"
          ]
        },
        {
          "output_type": "stream",
          "name": "stderr",
          "text": [
            "100%|██████████| 80419/80419 [00:01<00:00, 45012.95it/s]\n"
          ]
        },
        {
          "output_type": "stream",
          "name": "stdout",
          "text": [
            "*** Epoch 27/30 ***\n"
          ]
        },
        {
          "output_type": "stream",
          "name": "stderr",
          "text": [
            "100%|██████████| 80419/80419 [00:01<00:00, 47765.08it/s]\n"
          ]
        },
        {
          "output_type": "stream",
          "name": "stdout",
          "text": [
            "*** Epoch 28/30 ***\n"
          ]
        },
        {
          "output_type": "stream",
          "name": "stderr",
          "text": [
            "100%|██████████| 80419/80419 [00:02<00:00, 27202.25it/s]\n"
          ]
        },
        {
          "output_type": "stream",
          "name": "stdout",
          "text": [
            "*** Epoch 29/30 ***\n"
          ]
        },
        {
          "output_type": "stream",
          "name": "stderr",
          "text": [
            "100%|██████████| 80419/80419 [00:02<00:00, 39212.82it/s]\n"
          ]
        },
        {
          "output_type": "stream",
          "name": "stdout",
          "text": [
            "*** Epoch 30/30 ***\n"
          ]
        },
        {
          "output_type": "stream",
          "name": "stderr",
          "text": [
            "100%|██████████| 80419/80419 [00:01<00:00, 47063.34it/s]\n"
          ]
        },
        {
          "output_type": "stream",
          "name": "stdout",
          "text": [
            "Precision@10: 0.0163934426229508\n",
            "Recall@10: 0.005225884853949886\n",
            " Epoch 1/30 started\n"
          ]
        },
        {
          "output_type": "stream",
          "name": "stderr",
          "text": [
            "100%|██████████| 80419/80419 [00:01<00:00, 43884.74it/s]\n"
          ]
        },
        {
          "output_type": "stream",
          "name": "stdout",
          "text": [
            " Epoch 2/30 started\n"
          ]
        },
        {
          "output_type": "stream",
          "name": "stderr",
          "text": [
            "  0%|          | 0/80419 [00:00<?, ?it/s]<ipython-input-238-7b83070faeca>:103: RuntimeWarning: overflow encountered in multiply\n",
            "  self.p[self.dataset['userId'][i]] = p_u + lr * (err * q_i)\n",
            "<ipython-input-238-7b83070faeca>:104: RuntimeWarning: overflow encountered in multiply\n",
            "  self.q[self.dataset['itemId'][i]] = q_i + lr * (err * p_u)\n",
            " 63%|██████▎   | 50592/80419 [00:01<00:00, 43453.92it/s]<ipython-input-238-7b83070faeca>:104: RuntimeWarning: invalid value encountered in add\n",
            "  self.q[self.dataset['itemId'][i]] = q_i + lr * (err * p_u)\n",
            " 92%|█████████▏| 73709/80419 [00:01<00:00, 45264.90it/s]<ipython-input-238-7b83070faeca>:103: RuntimeWarning: invalid value encountered in add\n",
            "  self.p[self.dataset['userId'][i]] = p_u + lr * (err * q_i)\n",
            "100%|██████████| 80419/80419 [00:01<00:00, 44775.57it/s]\n"
          ]
        },
        {
          "output_type": "stream",
          "name": "stdout",
          "text": [
            " Epoch 3/30 started\n"
          ]
        },
        {
          "output_type": "stream",
          "name": "stderr",
          "text": [
            "100%|██████████| 80419/80419 [00:02<00:00, 29922.74it/s]\n"
          ]
        },
        {
          "output_type": "stream",
          "name": "stdout",
          "text": [
            " Epoch 4/30 started\n"
          ]
        },
        {
          "output_type": "stream",
          "name": "stderr",
          "text": [
            "100%|██████████| 80419/80419 [00:02<00:00, 33661.95it/s]\n"
          ]
        },
        {
          "output_type": "stream",
          "name": "stdout",
          "text": [
            " Epoch 5/30 started\n"
          ]
        },
        {
          "output_type": "stream",
          "name": "stderr",
          "text": [
            "100%|██████████| 80419/80419 [00:01<00:00, 44914.86it/s]\n"
          ]
        },
        {
          "output_type": "stream",
          "name": "stdout",
          "text": [
            " Epoch 6/30 started\n"
          ]
        },
        {
          "output_type": "stream",
          "name": "stderr",
          "text": [
            "100%|██████████| 80419/80419 [00:01<00:00, 43537.75it/s]\n"
          ]
        },
        {
          "output_type": "stream",
          "name": "stdout",
          "text": [
            " Epoch 7/30 started\n"
          ]
        },
        {
          "output_type": "stream",
          "name": "stderr",
          "text": [
            "100%|██████████| 80419/80419 [00:01<00:00, 43411.45it/s]\n"
          ]
        },
        {
          "output_type": "stream",
          "name": "stdout",
          "text": [
            " Epoch 8/30 started\n"
          ]
        },
        {
          "output_type": "stream",
          "name": "stderr",
          "text": [
            "100%|██████████| 80419/80419 [00:01<00:00, 44239.75it/s]\n"
          ]
        },
        {
          "output_type": "stream",
          "name": "stdout",
          "text": [
            " Epoch 9/30 started\n"
          ]
        },
        {
          "output_type": "stream",
          "name": "stderr",
          "text": [
            "100%|██████████| 80419/80419 [00:02<00:00, 39315.04it/s]\n"
          ]
        },
        {
          "output_type": "stream",
          "name": "stdout",
          "text": [
            " Epoch 10/30 started\n"
          ]
        },
        {
          "output_type": "stream",
          "name": "stderr",
          "text": [
            "100%|██████████| 80419/80419 [00:03<00:00, 25806.70it/s]\n"
          ]
        },
        {
          "output_type": "stream",
          "name": "stdout",
          "text": [
            " Epoch 11/30 started\n"
          ]
        },
        {
          "output_type": "stream",
          "name": "stderr",
          "text": [
            "100%|██████████| 80419/80419 [00:01<00:00, 43838.59it/s]\n"
          ]
        },
        {
          "output_type": "stream",
          "name": "stdout",
          "text": [
            " Epoch 12/30 started\n"
          ]
        },
        {
          "output_type": "stream",
          "name": "stderr",
          "text": [
            "100%|██████████| 80419/80419 [00:01<00:00, 44092.82it/s]\n"
          ]
        },
        {
          "output_type": "stream",
          "name": "stdout",
          "text": [
            " Epoch 13/30 started\n"
          ]
        },
        {
          "output_type": "stream",
          "name": "stderr",
          "text": [
            "100%|██████████| 80419/80419 [00:01<00:00, 43954.56it/s]\n"
          ]
        },
        {
          "output_type": "stream",
          "name": "stdout",
          "text": [
            " Epoch 14/30 started\n"
          ]
        },
        {
          "output_type": "stream",
          "name": "stderr",
          "text": [
            "100%|██████████| 80419/80419 [00:01<00:00, 45612.20it/s]\n"
          ]
        },
        {
          "output_type": "stream",
          "name": "stdout",
          "text": [
            " Epoch 15/30 started\n"
          ]
        },
        {
          "output_type": "stream",
          "name": "stderr",
          "text": [
            "100%|██████████| 80419/80419 [00:01<00:00, 43856.52it/s]\n"
          ]
        },
        {
          "output_type": "stream",
          "name": "stdout",
          "text": [
            " Epoch 16/30 started\n"
          ]
        },
        {
          "output_type": "stream",
          "name": "stderr",
          "text": [
            "100%|██████████| 80419/80419 [00:02<00:00, 28521.10it/s]\n"
          ]
        },
        {
          "output_type": "stream",
          "name": "stdout",
          "text": [
            " Epoch 17/30 started\n"
          ]
        },
        {
          "output_type": "stream",
          "name": "stderr",
          "text": [
            "100%|██████████| 80419/80419 [00:02<00:00, 35497.93it/s]\n"
          ]
        },
        {
          "output_type": "stream",
          "name": "stdout",
          "text": [
            " Epoch 18/30 started\n"
          ]
        },
        {
          "output_type": "stream",
          "name": "stderr",
          "text": [
            "100%|██████████| 80419/80419 [00:01<00:00, 43608.99it/s]\n"
          ]
        },
        {
          "output_type": "stream",
          "name": "stdout",
          "text": [
            " Epoch 19/30 started\n"
          ]
        },
        {
          "output_type": "stream",
          "name": "stderr",
          "text": [
            "100%|██████████| 80419/80419 [00:01<00:00, 44421.13it/s]\n"
          ]
        },
        {
          "output_type": "stream",
          "name": "stdout",
          "text": [
            " Epoch 20/30 started\n"
          ]
        },
        {
          "output_type": "stream",
          "name": "stderr",
          "text": [
            "100%|██████████| 80419/80419 [00:01<00:00, 43087.42it/s]\n"
          ]
        },
        {
          "output_type": "stream",
          "name": "stdout",
          "text": [
            " Epoch 21/30 started\n"
          ]
        },
        {
          "output_type": "stream",
          "name": "stderr",
          "text": [
            "100%|██████████| 80419/80419 [00:01<00:00, 43784.43it/s]\n"
          ]
        },
        {
          "output_type": "stream",
          "name": "stdout",
          "text": [
            " Epoch 22/30 started\n"
          ]
        },
        {
          "output_type": "stream",
          "name": "stderr",
          "text": [
            "100%|██████████| 80419/80419 [00:02<00:00, 37206.94it/s]\n"
          ]
        },
        {
          "output_type": "stream",
          "name": "stdout",
          "text": [
            " Epoch 23/30 started\n"
          ]
        },
        {
          "output_type": "stream",
          "name": "stderr",
          "text": [
            "100%|██████████| 80419/80419 [00:02<00:00, 27177.98it/s]\n"
          ]
        },
        {
          "output_type": "stream",
          "name": "stdout",
          "text": [
            " Epoch 24/30 started\n"
          ]
        },
        {
          "output_type": "stream",
          "name": "stderr",
          "text": [
            "100%|██████████| 80419/80419 [00:01<00:00, 42832.49it/s]\n"
          ]
        },
        {
          "output_type": "stream",
          "name": "stdout",
          "text": [
            " Epoch 25/30 started\n"
          ]
        },
        {
          "output_type": "stream",
          "name": "stderr",
          "text": [
            "100%|██████████| 80419/80419 [00:01<00:00, 43244.91it/s]\n"
          ]
        },
        {
          "output_type": "stream",
          "name": "stdout",
          "text": [
            " Epoch 26/30 started\n"
          ]
        },
        {
          "output_type": "stream",
          "name": "stderr",
          "text": [
            "100%|██████████| 80419/80419 [00:01<00:00, 43357.77it/s]\n"
          ]
        },
        {
          "output_type": "stream",
          "name": "stdout",
          "text": [
            " Epoch 27/30 started\n"
          ]
        },
        {
          "output_type": "stream",
          "name": "stderr",
          "text": [
            "100%|██████████| 80419/80419 [00:01<00:00, 43779.06it/s]\n"
          ]
        },
        {
          "output_type": "stream",
          "name": "stdout",
          "text": [
            " Epoch 28/30 started\n"
          ]
        },
        {
          "output_type": "stream",
          "name": "stderr",
          "text": [
            "100%|██████████| 80419/80419 [00:01<00:00, 44721.42it/s]\n"
          ]
        },
        {
          "output_type": "stream",
          "name": "stdout",
          "text": [
            " Epoch 29/30 started\n"
          ]
        },
        {
          "output_type": "stream",
          "name": "stderr",
          "text": [
            "100%|██████████| 80419/80419 [00:03<00:00, 25373.78it/s]\n"
          ]
        },
        {
          "output_type": "stream",
          "name": "stdout",
          "text": [
            " Epoch 30/30 started\n"
          ]
        },
        {
          "output_type": "stream",
          "name": "stderr",
          "text": [
            "100%|██████████| 80419/80419 [00:02<00:00, 37660.38it/s]\n"
          ]
        },
        {
          "output_type": "stream",
          "name": "stdout",
          "text": [
            "TL: [227.91096299278476, nan, nan, nan, nan, nan, nan, nan, nan, nan, nan, nan, nan, nan, nan, nan, nan, nan, nan, nan, nan, nan, nan, nan, nan, nan, nan, nan, nan, nan]\n",
            "Epochs: [0, 1, 2, 3, 4, 5, 6, 7, 8, 9, 10, 11, 12, 13, 14, 15, 16, 17, 18, 19, 20, 21, 22, 23, 24, 25, 26, 27, 28, 29]\n",
            "Precision@10: 0.003442622950819673\n",
            "Recall@10: 0.0008590498525753539\n",
            "eps 5\n",
            "*** Epoch 1/30 ***\n"
          ]
        },
        {
          "output_type": "stream",
          "name": "stderr",
          "text": [
            "100%|██████████| 80419/80419 [00:01<00:00, 45022.33it/s]\n"
          ]
        },
        {
          "output_type": "stream",
          "name": "stdout",
          "text": [
            "*** Epoch 2/30 ***\n"
          ]
        },
        {
          "output_type": "stream",
          "name": "stderr",
          "text": [
            "100%|██████████| 80419/80419 [00:01<00:00, 45915.73it/s]\n"
          ]
        },
        {
          "output_type": "stream",
          "name": "stdout",
          "text": [
            "*** Epoch 3/30 ***\n"
          ]
        },
        {
          "output_type": "stream",
          "name": "stderr",
          "text": [
            "100%|██████████| 80419/80419 [00:03<00:00, 25217.34it/s]\n"
          ]
        },
        {
          "output_type": "stream",
          "name": "stdout",
          "text": [
            "*** Epoch 4/30 ***\n"
          ]
        },
        {
          "output_type": "stream",
          "name": "stderr",
          "text": [
            "100%|██████████| 80419/80419 [00:01<00:00, 41220.21it/s]\n"
          ]
        },
        {
          "output_type": "stream",
          "name": "stdout",
          "text": [
            "*** Epoch 5/30 ***\n"
          ]
        },
        {
          "output_type": "stream",
          "name": "stderr",
          "text": [
            "100%|██████████| 80419/80419 [00:01<00:00, 45361.71it/s]\n"
          ]
        },
        {
          "output_type": "stream",
          "name": "stdout",
          "text": [
            "*** Epoch 6/30 ***\n"
          ]
        },
        {
          "output_type": "stream",
          "name": "stderr",
          "text": [
            "100%|██████████| 80419/80419 [00:01<00:00, 44626.77it/s]\n"
          ]
        },
        {
          "output_type": "stream",
          "name": "stdout",
          "text": [
            "*** Epoch 7/30 ***\n"
          ]
        },
        {
          "output_type": "stream",
          "name": "stderr",
          "text": [
            "100%|██████████| 80419/80419 [00:01<00:00, 44961.47it/s]\n"
          ]
        },
        {
          "output_type": "stream",
          "name": "stdout",
          "text": [
            "*** Epoch 8/30 ***\n"
          ]
        },
        {
          "output_type": "stream",
          "name": "stderr",
          "text": [
            "100%|██████████| 80419/80419 [00:01<00:00, 43772.79it/s]\n"
          ]
        },
        {
          "output_type": "stream",
          "name": "stdout",
          "text": [
            "*** Epoch 9/30 ***\n"
          ]
        },
        {
          "output_type": "stream",
          "name": "stderr",
          "text": [
            "100%|██████████| 80419/80419 [00:02<00:00, 35489.74it/s]\n"
          ]
        },
        {
          "output_type": "stream",
          "name": "stdout",
          "text": [
            "*** Epoch 10/30 ***\n"
          ]
        },
        {
          "output_type": "stream",
          "name": "stderr",
          "text": [
            "100%|██████████| 80419/80419 [00:02<00:00, 28673.77it/s]\n"
          ]
        },
        {
          "output_type": "stream",
          "name": "stdout",
          "text": [
            "*** Epoch 11/30 ***\n"
          ]
        },
        {
          "output_type": "stream",
          "name": "stderr",
          "text": [
            "100%|██████████| 80419/80419 [00:01<00:00, 44853.32it/s]\n"
          ]
        },
        {
          "output_type": "stream",
          "name": "stdout",
          "text": [
            "*** Epoch 12/30 ***\n"
          ]
        },
        {
          "output_type": "stream",
          "name": "stderr",
          "text": [
            "100%|██████████| 80419/80419 [00:01<00:00, 45650.23it/s]\n"
          ]
        },
        {
          "output_type": "stream",
          "name": "stdout",
          "text": [
            "*** Epoch 13/30 ***\n"
          ]
        },
        {
          "output_type": "stream",
          "name": "stderr",
          "text": [
            "100%|██████████| 80419/80419 [00:01<00:00, 45768.41it/s]\n"
          ]
        },
        {
          "output_type": "stream",
          "name": "stdout",
          "text": [
            "*** Epoch 14/30 ***\n"
          ]
        },
        {
          "output_type": "stream",
          "name": "stderr",
          "text": [
            "100%|██████████| 80419/80419 [00:01<00:00, 43071.75it/s]\n"
          ]
        },
        {
          "output_type": "stream",
          "name": "stdout",
          "text": [
            "*** Epoch 15/30 ***\n"
          ]
        },
        {
          "output_type": "stream",
          "name": "stderr",
          "text": [
            "100%|██████████| 80419/80419 [00:01<00:00, 45266.15it/s]\n"
          ]
        },
        {
          "output_type": "stream",
          "name": "stdout",
          "text": [
            "*** Epoch 16/30 ***\n"
          ]
        },
        {
          "output_type": "stream",
          "name": "stderr",
          "text": [
            "100%|██████████| 80419/80419 [00:02<00:00, 28013.89it/s]\n"
          ]
        },
        {
          "output_type": "stream",
          "name": "stdout",
          "text": [
            "*** Epoch 17/30 ***\n"
          ]
        },
        {
          "output_type": "stream",
          "name": "stderr",
          "text": [
            "100%|██████████| 80419/80419 [00:02<00:00, 37161.54it/s]\n"
          ]
        },
        {
          "output_type": "stream",
          "name": "stdout",
          "text": [
            "*** Epoch 18/30 ***\n"
          ]
        },
        {
          "output_type": "stream",
          "name": "stderr",
          "text": [
            "100%|██████████| 80419/80419 [00:01<00:00, 44227.16it/s]\n"
          ]
        },
        {
          "output_type": "stream",
          "name": "stdout",
          "text": [
            "*** Epoch 19/30 ***\n"
          ]
        },
        {
          "output_type": "stream",
          "name": "stderr",
          "text": [
            "100%|██████████| 80419/80419 [00:01<00:00, 45274.60it/s]\n"
          ]
        },
        {
          "output_type": "stream",
          "name": "stdout",
          "text": [
            "*** Epoch 20/30 ***\n"
          ]
        },
        {
          "output_type": "stream",
          "name": "stderr",
          "text": [
            "100%|██████████| 80419/80419 [00:01<00:00, 44354.86it/s]\n"
          ]
        },
        {
          "output_type": "stream",
          "name": "stdout",
          "text": [
            "*** Epoch 21/30 ***\n"
          ]
        },
        {
          "output_type": "stream",
          "name": "stderr",
          "text": [
            "100%|██████████| 80419/80419 [00:01<00:00, 46153.37it/s]\n"
          ]
        },
        {
          "output_type": "stream",
          "name": "stdout",
          "text": [
            "*** Epoch 22/30 ***\n"
          ]
        },
        {
          "output_type": "stream",
          "name": "stderr",
          "text": [
            "100%|██████████| 80419/80419 [00:01<00:00, 42422.10it/s]\n"
          ]
        },
        {
          "output_type": "stream",
          "name": "stdout",
          "text": [
            "*** Epoch 23/30 ***\n"
          ]
        },
        {
          "output_type": "stream",
          "name": "stderr",
          "text": [
            "100%|██████████| 80419/80419 [00:03<00:00, 26117.27it/s]\n"
          ]
        },
        {
          "output_type": "stream",
          "name": "stdout",
          "text": [
            "*** Epoch 24/30 ***\n"
          ]
        },
        {
          "output_type": "stream",
          "name": "stderr",
          "text": [
            "100%|██████████| 80419/80419 [00:01<00:00, 46411.68it/s]\n"
          ]
        },
        {
          "output_type": "stream",
          "name": "stdout",
          "text": [
            "*** Epoch 25/30 ***\n"
          ]
        },
        {
          "output_type": "stream",
          "name": "stderr",
          "text": [
            "100%|██████████| 80419/80419 [00:01<00:00, 46329.75it/s]\n"
          ]
        },
        {
          "output_type": "stream",
          "name": "stdout",
          "text": [
            "*** Epoch 26/30 ***\n"
          ]
        },
        {
          "output_type": "stream",
          "name": "stderr",
          "text": [
            "100%|██████████| 80419/80419 [00:01<00:00, 46972.70it/s]\n"
          ]
        },
        {
          "output_type": "stream",
          "name": "stdout",
          "text": [
            "*** Epoch 27/30 ***\n"
          ]
        },
        {
          "output_type": "stream",
          "name": "stderr",
          "text": [
            "100%|██████████| 80419/80419 [00:01<00:00, 44764.62it/s]\n"
          ]
        },
        {
          "output_type": "stream",
          "name": "stdout",
          "text": [
            "*** Epoch 28/30 ***\n"
          ]
        },
        {
          "output_type": "stream",
          "name": "stderr",
          "text": [
            "100%|██████████| 80419/80419 [00:01<00:00, 46385.15it/s]\n"
          ]
        },
        {
          "output_type": "stream",
          "name": "stdout",
          "text": [
            "*** Epoch 29/30 ***\n"
          ]
        },
        {
          "output_type": "stream",
          "name": "stderr",
          "text": [
            "100%|██████████| 80419/80419 [00:02<00:00, 34607.95it/s]\n"
          ]
        },
        {
          "output_type": "stream",
          "name": "stdout",
          "text": [
            "*** Epoch 30/30 ***\n"
          ]
        },
        {
          "output_type": "stream",
          "name": "stderr",
          "text": [
            "100%|██████████| 80419/80419 [00:02<00:00, 29391.23it/s]\n"
          ]
        },
        {
          "output_type": "stream",
          "name": "stdout",
          "text": [
            "Precision@10: 0.021147540983606522\n",
            "Recall@10: 0.008939836340359074\n",
            " Epoch 1/30 started\n"
          ]
        },
        {
          "output_type": "stream",
          "name": "stderr",
          "text": [
            "100%|██████████| 80419/80419 [00:01<00:00, 44683.77it/s]\n"
          ]
        },
        {
          "output_type": "stream",
          "name": "stdout",
          "text": [
            " Epoch 2/30 started\n"
          ]
        },
        {
          "output_type": "stream",
          "name": "stderr",
          "text": [
            "100%|██████████| 80419/80419 [00:01<00:00, 42145.81it/s]\n"
          ]
        },
        {
          "output_type": "stream",
          "name": "stdout",
          "text": [
            " Epoch 3/30 started\n"
          ]
        },
        {
          "output_type": "stream",
          "name": "stderr",
          "text": [
            "100%|██████████| 80419/80419 [00:01<00:00, 42681.80it/s]\n"
          ]
        },
        {
          "output_type": "stream",
          "name": "stdout",
          "text": [
            " Epoch 4/30 started\n"
          ]
        },
        {
          "output_type": "stream",
          "name": "stderr",
          "text": [
            "100%|██████████| 80419/80419 [00:02<00:00, 28095.79it/s]\n"
          ]
        },
        {
          "output_type": "stream",
          "name": "stdout",
          "text": [
            " Epoch 5/30 started\n"
          ]
        },
        {
          "output_type": "stream",
          "name": "stderr",
          "text": [
            "100%|██████████| 80419/80419 [00:02<00:00, 34285.66it/s]\n"
          ]
        },
        {
          "output_type": "stream",
          "name": "stdout",
          "text": [
            " Epoch 6/30 started\n"
          ]
        },
        {
          "output_type": "stream",
          "name": "stderr",
          "text": [
            "100%|██████████| 80419/80419 [00:01<00:00, 43566.29it/s]\n"
          ]
        },
        {
          "output_type": "stream",
          "name": "stdout",
          "text": [
            " Epoch 7/30 started\n"
          ]
        },
        {
          "output_type": "stream",
          "name": "stderr",
          "text": [
            "100%|██████████| 80419/80419 [00:01<00:00, 42988.77it/s]\n"
          ]
        },
        {
          "output_type": "stream",
          "name": "stdout",
          "text": [
            " Epoch 8/30 started\n"
          ]
        },
        {
          "output_type": "stream",
          "name": "stderr",
          "text": [
            "100%|██████████| 80419/80419 [00:01<00:00, 42763.02it/s]\n"
          ]
        },
        {
          "output_type": "stream",
          "name": "stdout",
          "text": [
            " Epoch 9/30 started\n"
          ]
        },
        {
          "output_type": "stream",
          "name": "stderr",
          "text": [
            "100%|██████████| 80419/80419 [00:01<00:00, 44417.63it/s]\n"
          ]
        },
        {
          "output_type": "stream",
          "name": "stdout",
          "text": [
            " Epoch 10/30 started\n"
          ]
        },
        {
          "output_type": "stream",
          "name": "stderr",
          "text": [
            "100%|██████████| 80419/80419 [00:02<00:00, 34527.20it/s]\n"
          ]
        },
        {
          "output_type": "stream",
          "name": "stdout",
          "text": [
            " Epoch 11/30 started\n"
          ]
        },
        {
          "output_type": "stream",
          "name": "stderr",
          "text": [
            "100%|██████████| 80419/80419 [00:02<00:00, 28227.32it/s]\n"
          ]
        },
        {
          "output_type": "stream",
          "name": "stdout",
          "text": [
            " Epoch 12/30 started\n"
          ]
        },
        {
          "output_type": "stream",
          "name": "stderr",
          "text": [
            "100%|██████████| 80419/80419 [00:01<00:00, 44123.31it/s]\n"
          ]
        },
        {
          "output_type": "stream",
          "name": "stdout",
          "text": [
            " Epoch 13/30 started\n"
          ]
        },
        {
          "output_type": "stream",
          "name": "stderr",
          "text": [
            "100%|██████████| 80419/80419 [00:01<00:00, 44114.33it/s]\n"
          ]
        },
        {
          "output_type": "stream",
          "name": "stdout",
          "text": [
            " Epoch 14/30 started\n"
          ]
        },
        {
          "output_type": "stream",
          "name": "stderr",
          "text": [
            "100%|██████████| 80419/80419 [00:01<00:00, 43026.20it/s]\n"
          ]
        },
        {
          "output_type": "stream",
          "name": "stdout",
          "text": [
            " Epoch 15/30 started\n"
          ]
        },
        {
          "output_type": "stream",
          "name": "stderr",
          "text": [
            "100%|██████████| 80419/80419 [00:01<00:00, 42969.47it/s]\n"
          ]
        },
        {
          "output_type": "stream",
          "name": "stdout",
          "text": [
            " Epoch 16/30 started\n"
          ]
        },
        {
          "output_type": "stream",
          "name": "stderr",
          "text": [
            "100%|██████████| 80419/80419 [00:01<00:00, 43094.73it/s]\n"
          ]
        },
        {
          "output_type": "stream",
          "name": "stdout",
          "text": [
            " Epoch 17/30 started\n"
          ]
        },
        {
          "output_type": "stream",
          "name": "stderr",
          "text": [
            "100%|██████████| 80419/80419 [00:03<00:00, 24993.45it/s]\n"
          ]
        },
        {
          "output_type": "stream",
          "name": "stdout",
          "text": [
            " Epoch 18/30 started\n"
          ]
        },
        {
          "output_type": "stream",
          "name": "stderr",
          "text": [
            "100%|██████████| 80419/80419 [00:02<00:00, 39984.23it/s]\n"
          ]
        },
        {
          "output_type": "stream",
          "name": "stdout",
          "text": [
            " Epoch 19/30 started\n"
          ]
        },
        {
          "output_type": "stream",
          "name": "stderr",
          "text": [
            "100%|██████████| 80419/80419 [00:01<00:00, 42916.41it/s]\n"
          ]
        },
        {
          "output_type": "stream",
          "name": "stdout",
          "text": [
            " Epoch 20/30 started\n"
          ]
        },
        {
          "output_type": "stream",
          "name": "stderr",
          "text": [
            "100%|██████████| 80419/80419 [00:01<00:00, 41673.93it/s]\n"
          ]
        },
        {
          "output_type": "stream",
          "name": "stdout",
          "text": [
            " Epoch 21/30 started\n"
          ]
        },
        {
          "output_type": "stream",
          "name": "stderr",
          "text": [
            "100%|██████████| 80419/80419 [00:01<00:00, 43717.38it/s]\n"
          ]
        },
        {
          "output_type": "stream",
          "name": "stdout",
          "text": [
            " Epoch 22/30 started\n"
          ]
        },
        {
          "output_type": "stream",
          "name": "stderr",
          "text": [
            "100%|██████████| 80419/80419 [00:01<00:00, 43488.50it/s]\n"
          ]
        },
        {
          "output_type": "stream",
          "name": "stdout",
          "text": [
            " Epoch 23/30 started\n"
          ]
        },
        {
          "output_type": "stream",
          "name": "stderr",
          "text": [
            "100%|██████████| 80419/80419 [00:02<00:00, 29531.03it/s]\n"
          ]
        },
        {
          "output_type": "stream",
          "name": "stdout",
          "text": [
            " Epoch 24/30 started\n"
          ]
        },
        {
          "output_type": "stream",
          "name": "stderr",
          "text": [
            "100%|██████████| 80419/80419 [00:02<00:00, 33534.33it/s]\n"
          ]
        },
        {
          "output_type": "stream",
          "name": "stdout",
          "text": [
            " Epoch 25/30 started\n"
          ]
        },
        {
          "output_type": "stream",
          "name": "stderr",
          "text": [
            "100%|██████████| 80419/80419 [00:01<00:00, 43857.93it/s]\n"
          ]
        },
        {
          "output_type": "stream",
          "name": "stdout",
          "text": [
            " Epoch 26/30 started\n"
          ]
        },
        {
          "output_type": "stream",
          "name": "stderr",
          "text": [
            "100%|██████████| 80419/80419 [00:01<00:00, 44294.70it/s]\n"
          ]
        },
        {
          "output_type": "stream",
          "name": "stdout",
          "text": [
            " Epoch 27/30 started\n"
          ]
        },
        {
          "output_type": "stream",
          "name": "stderr",
          "text": [
            "100%|██████████| 80419/80419 [00:03<00:00, 26546.17it/s]\n"
          ]
        },
        {
          "output_type": "stream",
          "name": "stdout",
          "text": [
            " Epoch 28/30 started\n"
          ]
        },
        {
          "output_type": "stream",
          "name": "stderr",
          "text": [
            "100%|██████████| 80419/80419 [00:02<00:00, 39295.11it/s]\n"
          ]
        },
        {
          "output_type": "stream",
          "name": "stdout",
          "text": [
            " Epoch 29/30 started\n"
          ]
        },
        {
          "output_type": "stream",
          "name": "stderr",
          "text": [
            "100%|██████████| 80419/80419 [00:03<00:00, 25419.55it/s]\n"
          ]
        },
        {
          "output_type": "stream",
          "name": "stdout",
          "text": [
            " Epoch 30/30 started\n"
          ]
        },
        {
          "output_type": "stream",
          "name": "stderr",
          "text": [
            "100%|██████████| 80419/80419 [00:01<00:00, 41006.51it/s]\n"
          ]
        },
        {
          "output_type": "stream",
          "name": "stdout",
          "text": [
            "TL: [38.499749864603224, 38.522736535151985, 38.465418119606895, 38.5130330626537, 38.559922390814, 38.67165365244685, 38.62755463601472, 38.627575909699154, 38.6366872852069, 38.89158631484105, 38.68438401794768, 38.55420643236917, 38.67467443686851, 38.749443187278445, 38.535117266806694, 38.50350286559254, 38.70383000298179, 38.616234521116205, 38.57987290295162, 38.521667381309626, 38.813792630157536, 38.53667214263788, 38.845550514515594, 38.844040053149484, 38.66141615277506, 38.57307966584653, 38.669438470144875, 38.70018432346349, 38.75513205609446, 38.85402073534546]\n",
            "Epochs: [0, 1, 2, 3, 4, 5, 6, 7, 8, 9, 10, 11, 12, 13, 14, 15, 16, 17, 18, 19, 20, 21, 22, 23, 24, 25, 26, 27, 28, 29]\n",
            "Precision@10: 0.02508196721311471\n",
            "Recall@10: 0.010593550672482927\n"
          ]
        },
        {
          "output_type": "display_data",
          "data": {
            "text/plain": [
              "<Figure size 640x480 with 1 Axes>"
            ],
            "image/png": "[encoded data removed]"
          },
          "metadata": {}
        },
        {
          "output_type": "display_data",
          "data": {
            "text/plain": [
              "<Figure size 640x480 with 1 Axes>"
            ],
            "image/png": "[encoded data removed]"
          },
          "metadata": {}
        },
        {
          "output_type": "display_data",
          "data": {
            "text/plain": [
              "<Figure size 640x480 with 1 Axes>"
            ],
            "image/png": "[encoded data removed]"
          },
          "metadata": {}
        },
        {
          "output_type": "display_data",
          "data": {
            "text/plain": [
              "<Figure size 640x480 with 1 Axes>"
            ],
            "image/png": "[encoded data removed]"
          },
          "metadata": {}
        },
        {
          "output_type": "display_data",
          "data": {
            "text/plain": [
              "<Figure size 640x480 with 1 Axes>"
            ],
            "image/png": "[encoded data removed]"
          },
          "metadata": {}
        },
        {
          "output_type": "display_data",
          "data": {
            "text/plain": [
              "<Figure size 640x480 with 1 Axes>"
            ],
            "image/png": "[encoded data removed]"
          },
          "metadata": {}
        }
      ]
    },
    {
      "cell_type": "code",
      "source": [
        "print(results)"
      ],
      "metadata": {
        "colab": {
          "base_uri": "https://localhost:8080/"
        },
        "id": "xXWdz0qwo-k0",
        "outputId": "4a0ec516-63b0-4bd3-cfb1-7e2ac741b017"
      },
      "execution_count": 260,
      "outputs": [
        {
          "output_type": "stream",
          "name": "stdout",
          "text": [
            "{0.2: (0.014918032786885221, 0.0057365161686028275, 0.003442622950819673, 0.0008590498525753539), 1: (0.0163934426229508, 0.005225884853949886, 0.003442622950819673, 0.0008590498525753539), 5: (0.021147540983606522, 0.008939836340359074, 0.02508196721311471, 0.010593550672482927)}\n"
          ]
        }
      ]
    }
  ]
}